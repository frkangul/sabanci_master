{
  "nbformat": 4,
  "nbformat_minor": 0,
  "metadata": {
    "colab": {
      "name": "Furkan_Gul_Question3.ipynb",
      "provenance": [],
      "collapsed_sections": []
    },
    "kernelspec": {
      "name": "python3",
      "display_name": "Python 3"
    },
    "language_info": {
      "name": "python"
    }
  },
  "cells": [
    {
      "cell_type": "code",
      "metadata": {
        "colab": {
          "base_uri": "https://localhost:8080/"
        },
        "id": "bTLYn37ohdcE",
        "outputId": "987e9b99-0925-40de-fa5b-ab500f7775dd"
      },
      "source": [
        "# I could not install Spark on local PyCharm application. \n",
        "# That's why I am using Colab as you already suggested in the lecture.\n",
        "from google.colab import drive\n",
        "drive.mount('/content/drive')"
      ],
      "execution_count": 1,
      "outputs": [
        {
          "output_type": "stream",
          "text": [
            "Mounted at /content/drive\n"
          ],
          "name": "stdout"
        }
      ]
    },
    {
      "cell_type": "code",
      "metadata": {
        "colab": {
          "base_uri": "https://localhost:8080/"
        },
        "id": "kg1t3gg8hgnJ",
        "outputId": "56e57ee5-4062-4f92-c558-2293bcf52eb9"
      },
      "source": [
        "# Install specific Java and Spark for Python.\n",
        "!apt-get update\n",
        "!apt-get install openjdk-8-jdk-headless -qq > /dev/null\n",
        "import os\n",
        "os.environ[\"JAVA_HOME\"] = \"/usr/lib/jvm/java-8-openjdk-amd64\"\n",
        "!update-alternatives --set java /usr/lib/jvm/java-8-openjdk-amd64/jre/bin/java\n",
        "!java -version\n",
        "!pip install pyspark"
      ],
      "execution_count": 2,
      "outputs": [
        {
          "output_type": "stream",
          "text": [
            "\r0% [Working]\r            \rGet:1 http://security.ubuntu.com/ubuntu bionic-security InRelease [88.7 kB]\n",
            "\r0% [Connecting to archive.ubuntu.com] [1 InRelease 14.2 kB/88.7 kB 16%] [Connec\r0% [Connecting to archive.ubuntu.com (91.189.88.152)] [Connected to cloud.r-pro\r0% [1 InRelease gpgv 88.7 kB] [Connecting to archive.ubuntu.com (91.189.88.152)\r                                                                               \rIgn:2 https://developer.download.nvidia.com/compute/cuda/repos/ubuntu1804/x86_64  InRelease\n",
            "\r0% [1 InRelease gpgv 88.7 kB] [Connecting to archive.ubuntu.com (91.189.88.152)\r                                                                               \rGet:3 https://cloud.r-project.org/bin/linux/ubuntu bionic-cran40/ InRelease [3,626 B]\n",
            "\r0% [1 InRelease gpgv 88.7 kB] [Connecting to archive.ubuntu.com (91.189.88.152)\r0% [1 InRelease gpgv 88.7 kB] [Connecting to archive.ubuntu.com (91.189.88.152)\r                                                                               \rGet:4 http://ppa.launchpad.net/c2d4u.team/c2d4u4.0+/ubuntu bionic InRelease [15.9 kB]\n",
            "\r0% [1 InRelease gpgv 88.7 kB] [Connecting to archive.ubuntu.com (91.189.88.152)\r                                                                               \rIgn:5 https://developer.download.nvidia.com/compute/machine-learning/repos/ubuntu1804/x86_64  InRelease\n",
            "\r0% [1 InRelease gpgv 88.7 kB] [Waiting for headers] [4 InRelease 5,468 B/15.9 k\r                                                                               \rHit:6 https://developer.download.nvidia.com/compute/cuda/repos/ubuntu1804/x86_64  Release\n",
            "Hit:7 https://developer.download.nvidia.com/compute/machine-learning/repos/ubuntu1804/x86_64  Release\n",
            "Hit:8 http://archive.ubuntu.com/ubuntu bionic InRelease\n",
            "Get:9 http://archive.ubuntu.com/ubuntu bionic-updates InRelease [88.7 kB]\n",
            "Hit:10 http://ppa.launchpad.net/cran/libgit2/ubuntu bionic InRelease\n",
            "Get:11 http://ppa.launchpad.net/deadsnakes/ppa/ubuntu bionic InRelease [15.9 kB]\n",
            "Get:12 http://archive.ubuntu.com/ubuntu bionic-backports InRelease [74.6 kB]\n",
            "Hit:13 http://ppa.launchpad.net/graphics-drivers/ppa/ubuntu bionic InRelease\n",
            "Get:16 http://ppa.launchpad.net/c2d4u.team/c2d4u4.0+/ubuntu bionic/main Sources [1,751 kB]\n",
            "Get:17 http://archive.ubuntu.com/ubuntu bionic-updates/universe amd64 Packages [2,173 kB]\n",
            "Get:18 http://ppa.launchpad.net/c2d4u.team/c2d4u4.0+/ubuntu bionic/main amd64 Packages [896 kB]\n",
            "Get:19 http://archive.ubuntu.com/ubuntu bionic-updates/main amd64 Packages [2,476 kB]\n",
            "Get:20 http://ppa.launchpad.net/deadsnakes/ppa/ubuntu bionic/main amd64 Packages [39.5 kB]\n",
            "Fetched 7,622 kB in 3s (2,345 kB/s)\n",
            "Reading package lists... Done\n",
            "update-alternatives: using /usr/lib/jvm/java-8-openjdk-amd64/jre/bin/java to provide /usr/bin/java (java) in manual mode\n",
            "openjdk version \"1.8.0_282\"\n",
            "OpenJDK Runtime Environment (build 1.8.0_282-8u282-b08-0ubuntu1~18.04-b08)\n",
            "OpenJDK 64-Bit Server VM (build 25.282-b08, mixed mode)\n",
            "Collecting pyspark\n",
            "\u001b[?25l  Downloading https://files.pythonhosted.org/packages/45/b0/9d6860891ab14a39d4bddf80ba26ce51c2f9dc4805e5c6978ac0472c120a/pyspark-3.1.1.tar.gz (212.3MB)\n",
            "\u001b[K     |████████████████████████████████| 212.3MB 59kB/s \n",
            "\u001b[?25hCollecting py4j==0.10.9\n",
            "\u001b[?25l  Downloading https://files.pythonhosted.org/packages/9e/b6/6a4fb90cd235dc8e265a6a2067f2a2c99f0d91787f06aca4bcf7c23f3f80/py4j-0.10.9-py2.py3-none-any.whl (198kB)\n",
            "\u001b[K     |████████████████████████████████| 204kB 46.5MB/s \n",
            "\u001b[?25hBuilding wheels for collected packages: pyspark\n",
            "  Building wheel for pyspark (setup.py) ... \u001b[?25l\u001b[?25hdone\n",
            "  Created wheel for pyspark: filename=pyspark-3.1.1-py2.py3-none-any.whl size=212767604 sha256=b917945141cb28d7fa9bb45d2aeb9bd72f21d7a4df3af2b90f46f66b9ce53b9f\n",
            "  Stored in directory: /root/.cache/pip/wheels/0b/90/c0/01de724414ef122bd05f056541fb6a0ecf47c7ca655f8b3c0f\n",
            "Successfully built pyspark\n",
            "Installing collected packages: py4j, pyspark\n",
            "Successfully installed py4j-0.10.9 pyspark-3.1.1\n"
          ],
          "name": "stdout"
        }
      ]
    },
    {
      "cell_type": "code",
      "metadata": {
        "colab": {
          "base_uri": "https://localhost:8080/",
          "height": 193
        },
        "id": "UYT7a9aihikt",
        "outputId": "295b8120-2a1e-47c4-d1ae-2c6767e95f55"
      },
      "source": [
        "# Check to see if I installed Spark correctly or not.\n",
        "from pyspark import SparkContext\n",
        "sc = SparkContext.getOrCreate()\n",
        "sc"
      ],
      "execution_count": 3,
      "outputs": [
        {
          "output_type": "execute_result",
          "data": {
            "text/html": [
              "\n",
              "        <div>\n",
              "            <p><b>SparkContext</b></p>\n",
              "\n",
              "            <p><a href=\"http://9125957d091a:4040\">Spark UI</a></p>\n",
              "\n",
              "            <dl>\n",
              "              <dt>Version</dt>\n",
              "                <dd><code>v3.1.1</code></dd>\n",
              "              <dt>Master</dt>\n",
              "                <dd><code>local[*]</code></dd>\n",
              "              <dt>AppName</dt>\n",
              "                <dd><code>pyspark-shell</code></dd>\n",
              "            </dl>\n",
              "        </div>\n",
              "        "
            ],
            "text/plain": [
              "<SparkContext master=local[*] appName=pyspark-shell>"
            ]
          },
          "metadata": {
            "tags": []
          },
          "execution_count": 3
        }
      ]
    },
    {
      "cell_type": "code",
      "metadata": {
        "colab": {
          "base_uri": "https://localhost:8080/"
        },
        "id": "bw08liYXs_mI",
        "outputId": "66e59453-5985-4878-b468-c8d2e2839a4c"
      },
      "source": [
        "# Inspect earthquake dataset.\n",
        "# xM, verilen magnitüd (MD, ML, Mw, Ms, Mb) değerleri içerisindeki en büyük değerdir.\n",
        "eqRDD = sc.textFile(\"/content/drive/MyDrive/Colab Notebooks/BDP/Datasets-20210410/EarthquakeDataset.txt\")\n",
        "print(eqRDD.take(2))\n",
        "\n",
        "eqRDD  = eqRDD.filter(lambda line: \"Event ID\" not in line) # Filter the header\n",
        "\n",
        "def split_and_get_important_columns(line):\n",
        "    info = line.split(\"\\t\")\n",
        "    event_no = info[0]\n",
        "\n",
        "    # put date into a good format for processing later\n",
        "    date = info[2]\n",
        "    data = date.split(\".\")\n",
        "    year = int(data[0])\n",
        "    month = int(data[1])\n",
        "    day = int(data[2])\n",
        "\n",
        "    # put date into a good format for processing later\n",
        "    time = info[3]\n",
        "    time_data = time.split(\":\")\n",
        "    hours = int(time_data[0])\n",
        "    mins = int(time_data[1])\n",
        "    sec_data = time_data[2].split(\".\")\n",
        "    secs = int(sec_data[0])\n",
        "    msecs = int(sec_data[1])\n",
        "\n",
        "    lat = float(info[4])\n",
        "    longt = float(info[5])\n",
        "    magn = float(info[7])\n",
        "    loc = info[-1]\n",
        "    # I keep event_no, and location for easily identifying the foreshocks and aftershocks\n",
        "    return (event_no, year, month, day, hours, mins, secs, msecs, lat, longt, magn, loc)\n",
        "\n",
        "# Since I did not get any error in above line, it means there is no empty line in the dataset. If it exists, I would apply preprocessing.\n",
        "eqRDD = eqRDD.map(lambda x: split_and_get_important_columns(x))\n",
        "# Filter out wrong values for latitude and longitude if they exit.\n",
        "eqRDD = eqRDD.filter(lambda line: -90<=line[-4]<=90)\n",
        "eqRDD = eqRDD.filter(lambda line: -180<=line[-3]<=180)\n",
        "# Filter between 1990 and 2019\n",
        "eqRDD = eqRDD.filter(lambda line: 1990<=line[1]<=2019) # required in the question\n",
        "topRDD = eqRDD.sortBy(lambda x: x[-2], ascending=False) # sort by biggest magnitude value\n",
        "\n",
        "# Extract top ten by filtering according to magnitude value. Lowest magnitude among top ten earthquakes is 6.2.\n",
        "topRDD = topRDD.filter(lambda x: x[-2]>=6.2) # luckily we do not have more than one earthquake with 6.2 magnitude in the dataset\n",
        "print(\"Top 10 earthquakes between 1990 and 2019:\")\n",
        "print(topRDD.collect())\n",
        "# Take a cartesian\n",
        "cartRDD = topRDD.cartesian(eqRDD)\n",
        "print(\"-----------------------------------------\")\n",
        "print(cartRDD.take(4))"
      ],
      "execution_count": 16,
      "outputs": [
        {
          "output_type": "stream",
          "text": [
            "['No    \\tEvent ID\\tDate\\tOrigin Time\\tLatitude\\tLongitude\\tDepth(km)\\txM\\tMD\\tML\\tMw\\tMs\\tMb\\tType\\tLocation', '000001\\t20201231005127\\t2020.12.31\\t00:51:27.94\\t37.8435\\t26.7775\\t008.0\\t3.8\\t0.0\\t3.8\\t3.7\\t0.0\\t0.0\\tKe\\tEGE DENIZI']\n",
            "Top 10 earthquakes between 1990 and 2019:\n",
            "[('009260', 1999, 8, 17, 0, 1, 37, 60, 40.76, 29.97, 7.4, 'BASISKELE (KOCAELI) [North East  2.0 km]'), ('004249', 2011, 10, 23, 10, 41, 21, 1, 38.7212, 43.411, 7.2, 'YEMLICE- (VAN) [North West  1.5 km]'), ('009044', 1999, 11, 12, 16, 57, 20, 80, 40.74, 31.21, 7.2, 'UGUR- (DUZCE) [North East  0.3 km]'), ('011247', 1992, 3, 13, 17, 18, 39, 40, 39.72, 39.63, 6.8, 'GUNEBAKAN- (ERZINCAN) [South West  1.7 km]'), ('001728', 2017, 7, 20, 22, 31, 9, 66, 36.9693, 27.4057, 6.6, 'GOKOVA KORFEZI (AKDENIZ)'), ('005473', 2008, 7, 15, 3, 26, 33, 58, 35.7948, 27.8798, 6.4, 'AKDENIZ'), ('007882', 2003, 5, 1, 0, 27, 4, 40, 39.01, 40.46, 6.4, 'KURTULUS- (BINGOL) [South West  4.3 km]'), ('001815', 2017, 6, 12, 12, 28, 37, 53, 38.8468, 26.3252, 6.3, 'EGE DENIZI'), ('009588', 1998, 6, 27, 13, 55, 51, 80, 36.96, 35.52, 6.3, 'HASANBEYLI-SARICAM (ADANA) [South 10.1 km]'), ('004480', 2011, 4, 1, 13, 29, 8, 56, 35.5138, 26.5798, 6.2, 'AKDENIZ')]\n",
            "-----------------------------------------\n",
            "[(('009260', 1999, 8, 17, 0, 1, 37, 60, 40.76, 29.97, 7.4, 'BASISKELE (KOCAELI) [North East  2.0 km]'), ('000849', 2019, 12, 29, 11, 20, 6, 59, 40.3462, 42.1595, 4.3, 'GULLUDAG-NARMAN (ERZURUM) [South East  3.7 km]')), (('009260', 1999, 8, 17, 0, 1, 37, 60, 40.76, 29.97, 7.4, 'BASISKELE (KOCAELI) [North East  2.0 km]'), ('000850', 2019, 12, 28, 1, 48, 37, 67, 35.6587, 32.062, 3.6, 'AKDENIZ')), (('009260', 1999, 8, 17, 0, 1, 37, 60, 40.76, 29.97, 7.4, 'BASISKELE (KOCAELI) [North East  2.0 km]'), ('000851', 2019, 12, 27, 7, 11, 31, 39, 38.3725, 39.0448, 3.6, 'CEVRIMTAS-SIVRICE (ELAZIG) [North West  2.9 km]')), (('009260', 1999, 8, 17, 0, 1, 37, 60, 40.76, 29.97, 7.4, 'BASISKELE (KOCAELI) [North East  2.0 km]'), ('000852', 2019, 12, 27, 7, 2, 25, 38, 38.3513, 38.9847, 5.1, 'TOPALUSAGI-SIVRICE (ELAZIG) [North East  0.3 km]'))]\n"
          ],
          "name": "stdout"
        }
      ]
    },
    {
      "cell_type": "code",
      "metadata": {
        "colab": {
          "base_uri": "https://localhost:8080/"
        },
        "id": "UECtG2-eSJh1",
        "outputId": "a07cd1ef-2c2f-4665-d166-89a778b06b8f"
      },
      "source": [
        "from geopy import distance\n",
        "from datetime import datetime\n",
        "\n",
        "def calculate_dist_and_time_interval(sample):\n",
        "  # Do not consider the same samples by checking unique event no in the dataset \n",
        "  loc1 = sample[0][8:10]\n",
        "  loc2 = sample[1][8:10]  \n",
        "  dist = distance.distance(loc1, loc2).km # in km\n",
        "  dist = round(dist, 2) # round it to 2 decimal points \n",
        "  if dist <= 20.0:\n",
        "    dt_object1 = datetime(sample[0][1], sample[0][2], sample[0][3], hour=sample[0][4], minute=sample[0][5], second=sample[0][6], microsecond=sample[0][7])\n",
        "    dt_object2 = datetime(sample[1][1], sample[1][2], sample[1][3], hour=sample[1][4], minute=sample[1][5], second=sample[1][6], microsecond=sample[1][7])\n",
        "    hour_diff = (dt_object2 - dt_object1).total_seconds() / 3600.0\n",
        "    if abs(hour_diff) <= 24.0:\n",
        "      # I already do not consider tuple with same cases. That's why I can incude 0 hour difference here. Or leave it without including.\n",
        "      # Assuming that you want us the aftershock and foreshock list with specific top earthquake that causes. I will add event_no of resulting earthquake to the lists.\n",
        "      if hour_diff > 0:\n",
        "        # Aftershock case\n",
        "        return (1, sample[1], (\"Resulting earthquake no:\", sample[0][0]))\n",
        "      elif hour_diff < 0:\n",
        "        # Foreshocks case\n",
        "        return (-1, sample[1], (\"Resulting earthquake no:\", sample[0][0]))\n",
        "\n",
        "  return (0, sample[0]) # unnessary part for the problem\n",
        "\n",
        "cartRDD = cartRDD.filter(lambda x: x[0][0] != x[1][0]) # filter same equartquakes in the cartesian product\n",
        "cartRDD = cartRDD.map(lambda x: calculate_dist_and_time_interval(x))\n",
        "print(cartRDD.take(4))"
      ],
      "execution_count": 17,
      "outputs": [
        {
          "output_type": "stream",
          "text": [
            "[(0, ('009260', 1999, 8, 17, 0, 1, 37, 60, 40.76, 29.97, 7.4, 'BASISKELE (KOCAELI) [North East  2.0 km]')), (0, ('009260', 1999, 8, 17, 0, 1, 37, 60, 40.76, 29.97, 7.4, 'BASISKELE (KOCAELI) [North East  2.0 km]')), (0, ('009260', 1999, 8, 17, 0, 1, 37, 60, 40.76, 29.97, 7.4, 'BASISKELE (KOCAELI) [North East  2.0 km]')), (0, ('009260', 1999, 8, 17, 0, 1, 37, 60, 40.76, 29.97, 7.4, 'BASISKELE (KOCAELI) [North East  2.0 km]'))]\n"
          ],
          "name": "stdout"
        }
      ]
    },
    {
      "cell_type": "code",
      "metadata": {
        "id": "sk_tqV3ak9B5",
        "colab": {
          "base_uri": "https://localhost:8080/"
        },
        "outputId": "cafa7324-730a-4810-fa31-0280787ab769"
      },
      "source": [
        "aftershockRDD = cartRDD.filter(lambda x: x[0]==1) # filter aftershocks\n",
        "aftershockRDD = aftershockRDD.map(lambda x: x[1:3]) # extract necessary information\n",
        "aftershockRDD = aftershockRDD.sortBy(lambda x: x[0][0]) # sort by shock eqarthquake no\n",
        "foreshockRDD = cartRDD.filter(lambda x: x[0]==-1) # filter foreshocks\n",
        "foreshockRDD = foreshockRDD.map(lambda x: x[1:3]) # extract necessary information\n",
        "foreshockRDD = foreshockRDD.sortBy(lambda x: x[0][0]) # sort by shock eqarthquake no\n",
        "print(\"List of foreshocks (within 20 km and in 24 hours) for top ten earthquakes between 1990 and 2019:\")\n",
        "print(foreshockRDD.collect())\n",
        "print(\"List of aftershocks (within 20 km and in 24 hours)for top ten earthquakes between 1990 and 2019:\")\n",
        "print(aftershockRDD.collect())"
      ],
      "execution_count": 20,
      "outputs": [
        {
          "output_type": "stream",
          "text": [
            "List of foreshocks (within 20 km and in 24 hours) for top ten earthquakes between 1990 and 2019:\n",
            "[]\n",
            "List of aftershocks (within 20 km and in 24 hours)for top ten earthquakes between 1990 and 2019:\n",
            "[(('001648', 2017, 7, 21, 21, 51, 1, 1, 36.9092, 27.6078, 3.9, 'GOKOVA KORFEZI (AKDENIZ)'), ('Resulting earthquake no:', '001728')), (('001650', 2017, 7, 21, 17, 9, 46, 28, 36.9465, 27.2537, 4.9, 'AKYARLAR-BODRUM (MUGLA) [South West  4.5 km]'), ('Resulting earthquake no:', '001728')), (('001651', 2017, 7, 21, 16, 55, 24, 70, 36.9867, 27.334, 3.8, 'AKYARLAR-BODRUM (MUGLA) [North East  4.0 km]'), ('Resulting earthquake no:', '001728')), (('001652', 2017, 7, 21, 14, 21, 55, 45, 36.9397, 27.4797, 3.9, 'GOKOVA KORFEZI (AKDENIZ)'), ('Resulting earthquake no:', '001728')), (('001653', 2017, 7, 21, 12, 5, 24, 49, 36.9125, 27.531, 3.6, 'GOKOVA KORFEZI (AKDENIZ)'), ('Resulting earthquake no:', '001728')), (('001654', 2017, 7, 21, 11, 6, 38, 92, 36.931, 27.5042, 3.6, 'GOKOVA KORFEZI (AKDENIZ)'), ('Resulting earthquake no:', '001728')), (('001657', 2017, 7, 21, 8, 58, 38, 50, 36.9453, 27.4698, 3.5, 'GOKOVA KORFEZI (AKDENIZ)'), ('Resulting earthquake no:', '001728')), (('001658', 2017, 7, 21, 8, 34, 0, 77, 36.9318, 27.5437, 3.6, 'GOKOVA KORFEZI (AKDENIZ)'), ('Resulting earthquake no:', '001728')), (('001659', 2017, 7, 21, 8, 3, 55, 61, 36.964, 27.5918, 3.8, 'GOKOVA KORFEZI (AKDENIZ)'), ('Resulting earthquake no:', '001728')), (('001660', 2017, 7, 21, 7, 47, 17, 62, 36.9183, 27.5132, 3.5, 'GOKOVA KORFEZI (AKDENIZ)'), ('Resulting earthquake no:', '001728')), (('001661', 2017, 7, 21, 7, 28, 16, 95, 36.8845, 27.5545, 4.1, 'GOKOVA KORFEZI (AKDENIZ)'), ('Resulting earthquake no:', '001728')), (('001662', 2017, 7, 21, 7, 11, 26, 19, 36.9367, 27.467, 3.9, 'GOKOVA KORFEZI (AKDENIZ)'), ('Resulting earthquake no:', '001728')), (('001663', 2017, 7, 21, 7, 5, 23, 79, 36.923, 27.4832, 4.0, 'GOKOVA KORFEZI (AKDENIZ)'), ('Resulting earthquake no:', '001728')), (('001664', 2017, 7, 21, 6, 47, 24, 48, 36.9688, 27.3502, 3.6, 'GOKOVA KORFEZI (AKDENIZ)'), ('Resulting earthquake no:', '001728')), (('001665', 2017, 7, 21, 5, 55, 31, 73, 36.8693, 27.5923, 3.9, 'GOKOVA KORFEZI (AKDENIZ)'), ('Resulting earthquake no:', '001728')), (('001666', 2017, 7, 21, 5, 52, 13, 62, 36.9805, 27.3677, 4.2, 'GOKOVA KORFEZI (AKDENIZ)'), ('Resulting earthquake no:', '001728')), (('001667', 2017, 7, 21, 5, 43, 1, 21, 36.9603, 27.6012, 3.6, 'GOKOVA KORFEZI (AKDENIZ)'), ('Resulting earthquake no:', '001728')), (('001668', 2017, 7, 21, 5, 26, 53, 32, 36.9435, 27.5602, 3.6, 'GOKOVA KORFEZI (AKDENIZ)'), ('Resulting earthquake no:', '001728')), (('001669', 2017, 7, 21, 5, 13, 58, 83, 36.9138, 27.6107, 4.3, 'GOKOVA KORFEZI (AKDENIZ)'), ('Resulting earthquake no:', '001728')), (('001671', 2017, 7, 21, 5, 3, 59, 39, 36.9198, 27.5538, 4.5, 'GOKOVA KORFEZI (AKDENIZ)'), ('Resulting earthquake no:', '001728')), (('001672', 2017, 7, 21, 4, 40, 45, 65, 36.9107, 27.4157, 3.8, 'GOKOVA KORFEZI (AKDENIZ)'), ('Resulting earthquake no:', '001728')), (('001673', 2017, 7, 21, 4, 39, 23, 73, 36.917, 27.5877, 3.9, 'GOKOVA KORFEZI (AKDENIZ)'), ('Resulting earthquake no:', '001728')), (('001677', 2017, 7, 21, 3, 59, 1, 57, 36.9155, 27.5858, 4.4, 'GOKOVA KORFEZI (AKDENIZ)'), ('Resulting earthquake no:', '001728')), (('001678', 2017, 7, 21, 3, 55, 32, 30, 36.9378, 27.548, 3.9, 'GOKOVA KORFEZI (AKDENIZ)'), ('Resulting earthquake no:', '001728')), (('001679', 2017, 7, 21, 3, 54, 53, 31, 36.9535, 27.517, 3.5, 'GOKOVA KORFEZI (AKDENIZ)'), ('Resulting earthquake no:', '001728')), (('001681', 2017, 7, 21, 3, 9, 35, 47, 36.9383, 27.5325, 3.9, 'GOKOVA KORFEZI (AKDENIZ)'), ('Resulting earthquake no:', '001728')), (('001682', 2017, 7, 21, 2, 54, 26, 58, 36.9153, 27.6098, 3.5, 'GOKOVA KORFEZI (AKDENIZ)'), ('Resulting earthquake no:', '001728')), (('001685', 2017, 7, 21, 2, 12, 34, 29, 36.8833, 27.3415, 4.6, 'GOKOVA KORFEZI (AKDENIZ)'), ('Resulting earthquake no:', '001728')), (('001686', 2017, 7, 21, 2, 1, 45, 25, 36.9402, 27.575, 3.6, 'GOKOVA KORFEZI (AKDENIZ)'), ('Resulting earthquake no:', '001728')), (('001687', 2017, 7, 21, 1, 56, 27, 9, 36.9332, 27.3843, 4.2, 'GOKOVA KORFEZI (AKDENIZ)'), ('Resulting earthquake no:', '001728')), (('001688', 2017, 7, 21, 1, 54, 46, 83, 36.9508, 27.3637, 4.2, 'GOKOVA KORFEZI (AKDENIZ)'), ('Resulting earthquake no:', '001728')), (('001689', 2017, 7, 21, 1, 50, 29, 88, 36.9843, 27.3765, 4.2, 'YALI-BODRUM (MUGLA) [South East  5.2 km]'), ('Resulting earthquake no:', '001728')), (('001690', 2017, 7, 21, 1, 38, 48, 93, 36.932, 27.5367, 4.6, 'GOKOVA KORFEZI (AKDENIZ)'), ('Resulting earthquake no:', '001728')), (('001691', 2017, 7, 21, 1, 35, 43, 97, 36.9448, 27.5775, 4.4, 'GOKOVA KORFEZI (AKDENIZ)'), ('Resulting earthquake no:', '001728')), (('001693', 2017, 7, 21, 1, 25, 34, 56, 36.9767, 27.4223, 4.1, 'BODRUM (MUGLA) [South 6.5 km]'), ('Resulting earthquake no:', '001728')), (('001694', 2017, 7, 21, 1, 17, 9, 91, 36.9377, 27.5835, 4.0, 'GOKOVA KORFEZI (AKDENIZ)'), ('Resulting earthquake no:', '001728')), (('001695', 2017, 7, 21, 1, 3, 16, 58, 36.9205, 27.5138, 3.6, 'GOKOVA KORFEZI (AKDENIZ)'), ('Resulting earthquake no:', '001728')), (('001696', 2017, 7, 21, 1, 1, 57, 16, 36.9727, 27.3777, 3.8, 'GOKOVA KORFEZI (AKDENIZ)'), ('Resulting earthquake no:', '001728')), (('001698', 2017, 7, 21, 0, 53, 55, 4, 36.9158, 27.3647, 4.1, 'GOKOVA KORFEZI (AKDENIZ)'), ('Resulting earthquake no:', '001728')), (('001699', 2017, 7, 21, 0, 42, 35, 84, 36.9398, 27.3025, 3.5, 'AKYARLAR-BODRUM (MUGLA) [South East  3.6 km]'), ('Resulting earthquake no:', '001728')), (('001701', 2017, 7, 21, 0, 30, 18, 30, 36.9108, 27.6118, 3.9, 'GOKOVA KORFEZI (AKDENIZ)'), ('Resulting earthquake no:', '001728')), (('001704', 2017, 7, 21, 0, 16, 40, 43, 36.9742, 27.3312, 4.1, 'AKYARLAR-BODRUM (MUGLA) [East 3.4 km]'), ('Resulting earthquake no:', '001728')), (('001705', 2017, 7, 21, 0, 11, 9, 38, 36.9362, 27.4395, 3.7, 'GOKOVA KORFEZI (AKDENIZ)'), ('Resulting earthquake no:', '001728')), (('001706', 2017, 7, 20, 23, 53, 39, 91, 36.9132, 27.5478, 4.0, 'GOKOVA KORFEZI (AKDENIZ)'), ('Resulting earthquake no:', '001728')), (('001707', 2017, 7, 20, 23, 50, 15, 88, 36.9417, 27.4347, 4.0, 'GOKOVA KORFEZI (AKDENIZ)'), ('Resulting earthquake no:', '001728')), (('001708', 2017, 7, 20, 23, 45, 7, 81, 36.9423, 27.419, 4.1, 'GOKOVA KORFEZI (AKDENIZ)'), ('Resulting earthquake no:', '001728')), (('001709', 2017, 7, 20, 23, 23, 51, 44, 36.958, 27.3103, 4.9, 'AKYARLAR-BODRUM (MUGLA) [South East  2.2 km]'), ('Resulting earthquake no:', '001728')), (('001710', 2017, 7, 20, 23, 22, 18, 74, 36.8792, 27.5783, 3.6, 'GOKOVA KORFEZI (AKDENIZ)'), ('Resulting earthquake no:', '001728')), (('001711', 2017, 7, 20, 23, 14, 16, 59, 36.9168, 27.6, 3.8, 'GOKOVA KORFEZI (AKDENIZ)'), ('Resulting earthquake no:', '001728')), (('001713', 2017, 7, 20, 23, 9, 8, 58, 36.8975, 27.5877, 3.5, 'GOKOVA KORFEZI (AKDENIZ)'), ('Resulting earthquake no:', '001728')), (('001714', 2017, 7, 20, 23, 0, 44, 58, 36.9942, 27.4098, 4.0, 'BODRUM (MUGLA) [South West  4.8 km]'), ('Resulting earthquake no:', '001728')), (('001715', 2017, 7, 20, 22, 54, 35, 54, 36.9325, 27.5875, 3.8, 'GOKOVA KORFEZI (AKDENIZ)'), ('Resulting earthquake no:', '001728')), (('001716', 2017, 7, 20, 22, 52, 58, 60, 36.9503, 27.372, 4.5, 'GOKOVA KORFEZI (AKDENIZ)'), ('Resulting earthquake no:', '001728')), (('001717', 2017, 7, 20, 22, 50, 44, 22, 36.9088, 27.5463, 4.0, 'GOKOVA KORFEZI (AKDENIZ)'), ('Resulting earthquake no:', '001728')), (('001718', 2017, 7, 20, 22, 48, 28, 30, 36.9293, 27.3467, 3.7, 'GOKOVA KORFEZI (AKDENIZ)'), ('Resulting earthquake no:', '001728')), (('001719', 2017, 7, 20, 22, 44, 19, 90, 36.9315, 27.3987, 3.6, 'GOKOVA KORFEZI (AKDENIZ)'), ('Resulting earthquake no:', '001728')), (('001720', 2017, 7, 20, 22, 40, 46, 80, 36.9243, 27.5655, 3.8, 'GOKOVA KORFEZI (AKDENIZ)'), ('Resulting earthquake no:', '001728')), (('001721', 2017, 7, 20, 22, 40, 4, 0, 36.9253, 27.5825, 3.5, 'GOKOVA KORFEZI (AKDENIZ)'), ('Resulting earthquake no:', '001728')), (('001722', 2017, 7, 20, 22, 39, 6, 14, 36.9255, 27.3333, 3.6, 'GOKOVA KORFEZI (AKDENIZ)'), ('Resulting earthquake no:', '001728')), (('001723', 2017, 7, 20, 22, 38, 3, 20, 36.9532, 27.3862, 3.8, 'GOKOVA KORFEZI (AKDENIZ)'), ('Resulting earthquake no:', '001728')), (('001725', 2017, 7, 20, 22, 35, 12, 82, 36.9237, 27.4462, 3.7, 'GOKOVA KORFEZI (AKDENIZ)'), ('Resulting earthquake no:', '001728')), (('001726', 2017, 7, 20, 22, 34, 40, 17, 36.9663, 27.4163, 3.7, 'GOKOVA KORFEZI (AKDENIZ)'), ('Resulting earthquake no:', '001728')), (('001727', 2017, 7, 20, 22, 34, 15, 33, 36.9298, 27.6018, 3.7, 'GOKOVA KORFEZI (AKDENIZ)'), ('Resulting earthquake no:', '001728')), (('001786', 2017, 6, 13, 5, 16, 26, 49, 38.7912, 26.4653, 3.7, 'EGE DENIZI'), ('Resulting earthquake no:', '001815')), (('001787', 2017, 6, 13, 3, 19, 57, 80, 38.8388, 26.3982, 4.1, 'EGE DENIZI'), ('Resulting earthquake no:', '001815')), (('001788', 2017, 6, 13, 3, 5, 35, 43, 38.8745, 26.3, 3.7, 'EGE DENIZI'), ('Resulting earthquake no:', '001815')), (('001789', 2017, 6, 13, 1, 29, 21, 17, 38.884, 26.3878, 3.5, 'EGE DENIZI'), ('Resulting earthquake no:', '001815')), (('001790', 2017, 6, 13, 0, 23, 52, 24, 38.8547, 26.3052, 3.7, 'EGE DENIZI'), ('Resulting earthquake no:', '001815')), (('001791', 2017, 6, 12, 23, 29, 21, 53, 38.8873, 26.3235, 3.6, 'EGE DENIZI'), ('Resulting earthquake no:', '001815')), (('001792', 2017, 6, 12, 22, 35, 8, 72, 38.9327, 26.4435, 3.5, 'MIDILLI ADASI (EGE DENIZI)'), ('Resulting earthquake no:', '001815')), (('001793', 2017, 6, 12, 19, 52, 35, 56, 38.936, 26.2888, 3.8, 'EGE DENIZI'), ('Resulting earthquake no:', '001815')), (('001794', 2017, 6, 12, 19, 48, 40, 51, 39.0013, 26.2978, 3.7, 'MIDILLI ADASI (EGE DENIZI)'), ('Resulting earthquake no:', '001815')), (('001795', 2017, 6, 12, 18, 29, 28, 3, 38.8237, 26.3188, 4.0, 'EGE DENIZI'), ('Resulting earthquake no:', '001815')), (('001796', 2017, 6, 12, 18, 25, 41, 52, 38.8965, 26.1522, 4.2, 'MIDILLI ADASI (EGE DENIZI)'), ('Resulting earthquake no:', '001815')), (('001797', 2017, 6, 12, 17, 34, 30, 71, 38.8322, 26.3652, 3.8, 'EGE DENIZI'), ('Resulting earthquake no:', '001815')), (('001798', 2017, 6, 12, 16, 30, 14, 91, 38.8327, 26.336, 4.2, 'EGE DENIZI'), ('Resulting earthquake no:', '001815')), (('001799', 2017, 6, 12, 16, 16, 22, 65, 38.7792, 26.356, 3.8, 'EGE DENIZI'), ('Resulting earthquake no:', '001815')), (('001800', 2017, 6, 12, 15, 25, 2, 18, 38.8797, 26.2488, 4.0, 'EGE DENIZI'), ('Resulting earthquake no:', '001815')), (('001801', 2017, 6, 12, 14, 47, 7, 7, 38.8615, 26.3617, 3.6, 'EGE DENIZI'), ('Resulting earthquake no:', '001815')), (('001802', 2017, 6, 12, 14, 41, 13, 26, 38.8815, 26.3022, 3.6, 'EGE DENIZI'), ('Resulting earthquake no:', '001815')), (('001803', 2017, 6, 12, 14, 19, 46, 88, 38.8498, 26.3388, 4.4, 'EGE DENIZI'), ('Resulting earthquake no:', '001815')), (('001804', 2017, 6, 12, 13, 57, 0, 66, 38.909, 26.2133, 3.8, 'EGE DENIZI'), ('Resulting earthquake no:', '001815')), (('001805', 2017, 6, 12, 13, 53, 15, 26, 38.9397, 26.2847, 3.5, 'EGE DENIZI'), ('Resulting earthquake no:', '001815')), (('001806', 2017, 6, 12, 13, 42, 24, 77, 38.8302, 26.3123, 3.6, 'EGE DENIZI'), ('Resulting earthquake no:', '001815')), (('001807', 2017, 6, 12, 13, 10, 13, 56, 38.9117, 26.2815, 3.5, 'EGE DENIZI'), ('Resulting earthquake no:', '001815')), (('001808', 2017, 6, 12, 13, 7, 7, 96, 38.894, 26.1123, 3.6, 'MIDILLI ADASI (EGE DENIZI)'), ('Resulting earthquake no:', '001815')), (('001809', 2017, 6, 12, 12, 47, 26, 35, 38.8768, 26.2742, 3.8, 'EGE DENIZI'), ('Resulting earthquake no:', '001815')), (('001810', 2017, 6, 12, 12, 45, 15, 41, 38.8877, 26.3575, 3.5, 'EGE DENIZI'), ('Resulting earthquake no:', '001815')), (('001812', 2017, 6, 12, 12, 35, 33, 13, 38.8642, 26.3445, 3.9, 'EGE DENIZI'), ('Resulting earthquake no:', '001815')), (('001813', 2017, 6, 12, 12, 32, 51, 63, 38.7205, 26.22, 3.6, 'SALMAN ACIKLARI-IZMIR (EGE DENIZI)'), ('Resulting earthquake no:', '001815')), (('004139', 2011, 10, 24, 10, 30, 15, 60, 38.7217, 43.4695, 4.5, 'YEMLICE- (VAN) [South East  2.4 km]'), ('Resulting earthquake no:', '004249')), (('004140', 2011, 10, 24, 10, 18, 45, 11, 38.7362, 43.3433, 3.7, 'GUVENCLI- (VAN) [East 2.3 km]'), ('Resulting earthquake no:', '004249')), (('004142', 2011, 10, 24, 10, 10, 52, 65, 38.7382, 43.4988, 3.8, 'AKCAOREN- (VAN) [North East  0.8 km]'), ('Resulting earthquake no:', '004249')), (('004146', 2011, 10, 24, 8, 56, 8, 41, 38.8235, 43.4138, 3.6, 'KUMLUCA- (VAN) [South East  2.4 km]'), ('Resulting earthquake no:', '004249')), (('004147', 2011, 10, 24, 8, 49, 21, 4, 38.6693, 43.5113, 4.9, 'KOZLUCA- (VAN) [North West  1.8 km]'), ('Resulting earthquake no:', '004249')), (('004148', 2011, 10, 24, 8, 42, 10, 48, 38.7953, 43.505, 3.5, 'DEREBEY- (VAN) [North East  1.0 km]'), ('Resulting earthquake no:', '004249')), (('004149', 2011, 10, 24, 8, 28, 28, 93, 38.5747, 43.2832, 4.8, 'BARDAKCI- (VAN) [North East  1.8 km]'), ('Resulting earthquake no:', '004249')), (('004150', 2011, 10, 24, 8, 12, 12, 33, 38.846, 43.4222, 4.5, 'GEDIKBULAK- (VAN) [North West  1.9 km]'), ('Resulting earthquake no:', '004249')), (('004152', 2011, 10, 24, 7, 32, 49, 41, 38.7797, 43.6057, 3.7, 'YUKARIGOLALAN- (VAN) [North East  3.0 km]'), ('Resulting earthquake no:', '004249')), (('004153', 2011, 10, 24, 7, 2, 23, 66, 38.6145, 43.5837, 4.3, 'BAKLATEPE- (VAN) [North 2.6 km]'), ('Resulting earthquake no:', '004249')), (('004155', 2011, 10, 24, 5, 54, 58, 51, 38.7765, 43.2762, 4.6, 'YESILSU- (VAN) [South West  1.5 km]'), ('Resulting earthquake no:', '004249')), (('004156', 2011, 10, 24, 5, 34, 3, 72, 38.8212, 43.2598, 3.9, 'HALKALI- (VAN) [South West  5.1 km]'), ('Resulting earthquake no:', '004249')), (('004157', 2011, 10, 24, 5, 32, 0, 34, 38.6898, 43.2577, 3.9, 'ATMACA- (VAN) [South West  1.0 km]'), ('Resulting earthquake no:', '004249')), (('004159', 2011, 10, 24, 4, 43, 1, 41, 38.6512, 43.2258, 4.7, 'DIBEKDUZU- (VAN) [North West  1.7 km]'), ('Resulting earthquake no:', '004249')), (('004160', 2011, 10, 24, 4, 18, 46, 44, 38.7327, 43.2712, 3.9, 'DAGONU- (VAN) [South East  3.7 km]'), ('Resulting earthquake no:', '004249')), (('004161', 2011, 10, 24, 4, 16, 41, 33, 38.8565, 43.556, 4.0, 'BAGDASAN- (VAN) [North East  3.2 km]'), ('Resulting earthquake no:', '004249')), (('004164', 2011, 10, 24, 2, 44, 42, 53, 38.8623, 43.374, 3.9, 'KUMLUCA- (VAN) [North West  3.1 km]'), ('Resulting earthquake no:', '004249')), (('004167', 2011, 10, 24, 1, 39, 16, 10, 38.7545, 43.3417, 3.9, 'SAHGELDI- (VAN) [South West  1.9 km]'), ('Resulting earthquake no:', '004249')), (('004168', 2011, 10, 24, 1, 8, 9, 54, 38.7792, 43.481, 3.7, 'DEREBEY- (VAN) [South West  1.9 km]'), ('Resulting earthquake no:', '004249')), (('004170', 2011, 10, 24, 0, 50, 47, 6, 38.7855, 43.3692, 4.0, 'SAHGELDI- (VAN) [North East  2.6 km]'), ('Resulting earthquake no:', '004249')), (('004171', 2011, 10, 24, 0, 37, 51, 69, 38.7317, 43.5062, 3.5, 'AKCAOREN- (VAN) [East 1.0 km]'), ('Resulting earthquake no:', '004249')), (('004172', 2011, 10, 23, 23, 37, 52, 49, 38.7415, 43.2123, 3.6, 'OZYURT- (VAN) [South 0.4 km]'), ('Resulting earthquake no:', '004249')), (('004173', 2011, 10, 23, 23, 34, 43, 74, 38.5868, 43.5185, 4.0, 'ASAGICITLI- (VAN) [North East  2.9 km]'), ('Resulting earthquake no:', '004249')), (('004180', 2011, 10, 23, 21, 43, 28, 29, 38.8012, 43.3625, 3.6, 'YAYLIYAKA- (VAN) [South West  1.9 km]'), ('Resulting earthquake no:', '004249')), (('004184', 2011, 10, 23, 21, 0, 6, 63, 38.6798, 43.2097, 3.6, 'MOLLAKASIM- (VAN) [North East  1.8 km]'), ('Resulting earthquake no:', '004249')), (('004187', 2011, 10, 23, 20, 7, 21, 99, 38.6813, 43.4585, 3.6, 'DILIMLI- (VAN) [North West  0.9 km]'), ('Resulting earthquake no:', '004249')), (('004188', 2011, 10, 23, 19, 54, 24, 12, 38.7602, 43.4647, 3.9, 'YEMLICE- (VAN) [North East  2.7 km]'), ('Resulting earthquake no:', '004249')), (('004190', 2011, 10, 23, 19, 43, 24, 76, 38.735, 43.23, 4.5, 'OZYURT- (VAN) [South East  1.9 km]'), ('Resulting earthquake no:', '004249')), (('004192', 2011, 10, 23, 19, 6, 6, 38, 38.7852, 43.2703, 4.9, 'YESILSU- (VAN) [North West  2.0 km]'), ('Resulting earthquake no:', '004249')), (('004194', 2011, 10, 23, 18, 53, 48, 55, 38.776, 43.3507, 4.9, 'SAHGELDI- (VAN) [North East  0.7 km]'), ('Resulting earthquake no:', '004249')), (('004195', 2011, 10, 23, 18, 30, 34, 8, 38.7315, 43.376, 3.5, 'TABANLI- (VAN) [South East  2.3 km]'), ('Resulting earthquake no:', '004249')), (('004196', 2011, 10, 23, 18, 27, 1, 59, 38.665, 43.3935, 4.4, 'ASIT- (VAN) [North 3.1 km]'), ('Resulting earthquake no:', '004249')), (('004198', 2011, 10, 23, 18, 10, 45, 40, 38.7023, 43.2948, 5.1, 'GOLLU- (VAN) [South West  2.6 km]'), ('Resulting earthquake no:', '004249')), (('004199', 2011, 10, 23, 17, 32, 57, 18, 38.7235, 43.254, 3.7, 'ATMACA- (VAN) [North West  2.8 km]'), ('Resulting earthquake no:', '004249')), (('004201', 2011, 10, 23, 17, 27, 6, 39, 38.6873, 43.2647, 3.5, 'ATMACA- (VAN) [South East  1.3 km]'), ('Resulting earthquake no:', '004249')), (('004202', 2011, 10, 23, 17, 14, 49, 3, 38.716, 43.4278, 3.5, 'OCAKLI- (VAN) [South East  2.0 km]'), ('Resulting earthquake no:', '004249')), (('004204', 2011, 10, 23, 16, 38, 47, 90, 38.7342, 43.509, 4.2, 'AKCAOREN- (VAN) [North East  1.2 km]'), ('Resulting earthquake no:', '004249')), (('004207', 2011, 10, 23, 16, 5, 8, 56, 38.752, 43.553, 4.6, 'ASAGIGOLALAN- (VAN) [North West  1.5 km]'), ('Resulting earthquake no:', '004249')), (('004208', 2011, 10, 23, 15, 57, 59, 32, 38.7462, 43.3162, 4.6, 'GUVENCLI- (VAN) [North 0.8 km]'), ('Resulting earthquake no:', '004249')), (('004213', 2011, 10, 23, 15, 6, 18, 32, 38.8907, 43.3432, 3.5, 'HALKALI- (VAN) [North East  7.2 km]'), ('Resulting earthquake no:', '004249')), (('004214', 2011, 10, 23, 14, 52, 50, 81, 38.7547, 43.2227, 3.8, 'OZYURT- (VAN) [North East  1.4 km]'), ('Resulting earthquake no:', '004249')), (('004218', 2011, 10, 23, 13, 47, 48, 33, 38.7695, 43.5735, 4.0, 'YUKARIGOLALAN- (VAN) [North West  0.5 km]'), ('Resulting earthquake no:', '004249')), (('004219', 2011, 10, 23, 13, 46, 10, 71, 38.7468, 43.2487, 4.1, 'DAGONU- (VAN) [South 1.5 km]'), ('Resulting earthquake no:', '004249')), (('004220', 2011, 10, 23, 13, 33, 49, 5, 38.8275, 43.2453, 3.6, 'HALKALI- (VAN) [West 6.3 km]'), ('Resulting earthquake no:', '004249')), (('004221', 2011, 10, 23, 13, 22, 31, 95, 38.7562, 43.5078, 3.6, 'MEYDANCIK- (VAN) [South 1.4 km]'), ('Resulting earthquake no:', '004249')), (('004222', 2011, 10, 23, 13, 17, 5, 77, 38.8508, 43.3263, 4.3, 'HALKALI- (VAN) [North East  2.5 km]'), ('Resulting earthquake no:', '004249')), (('004226', 2011, 10, 23, 12, 56, 49, 2, 38.7588, 43.3375, 4.5, 'SAHGELDI- (VAN) [South West  1.5 km]'), ('Resulting earthquake no:', '004249')), (('004227', 2011, 10, 23, 12, 53, 42, 3, 38.827, 43.3917, 3.6, 'KUMLUCA- (VAN) [South West  1.8 km]'), ('Resulting earthquake no:', '004249')), (('004228', 2011, 10, 23, 12, 42, 9, 69, 38.7287, 43.192, 4.3, 'OZYURT- (VAN) [South West  2.5 km]'), ('Resulting earthquake no:', '004249')), (('004230', 2011, 10, 23, 12, 23, 30, 25, 38.8772, 43.4, 3.9, 'KUMLUCA- (VAN) [North 3.9 km]'), ('Resulting earthquake no:', '004249')), (('004233', 2011, 10, 23, 12, 17, 33, 91, 38.7707, 43.6007, 3.9, 'YUKARIGOLALAN- (VAN) [North East  2.2 km]'), ('Resulting earthquake no:', '004249')), (('004235', 2011, 10, 23, 12, 3, 11, 59, 38.7762, 43.197, 4.2, 'OZYURT- (VAN) [North West  3.7 km]'), ('Resulting earthquake no:', '004249')), (('004236', 2011, 10, 23, 11, 54, 56, 10, 38.73, 43.2, 3.9, 'OZYURT- (VAN) [South West  2.0 km]'), ('Resulting earthquake no:', '004249')), (('004237', 2011, 10, 23, 11, 47, 24, 20, 38.81, 43.3, 3.5, 'HALKALI- (VAN) [South West  2.7 km]'), ('Resulting earthquake no:', '004249')), (('004239', 2011, 10, 23, 11, 44, 25, 30, 38.739, 43.298, 4.3, 'GUVENCLI- (VAN) [West 1.6 km]'), ('Resulting earthquake no:', '004249')), (('004240', 2011, 10, 23, 11, 32, 40, 98, 38.8022, 43.254, 5.7, 'YESILSU- (VAN) [North West  4.0 km]'), ('Resulting earthquake no:', '004249')), (('004241', 2011, 10, 23, 11, 29, 29, 29, 38.7462, 43.281, 3.8, 'GUVENCLI- (VAN) [North West  3.2 km]'), ('Resulting earthquake no:', '004249')), (('004242', 2011, 10, 23, 11, 27, 15, 84, 38.837, 43.3102, 4.2, 'HALKALI- (VAN) [North West  1.1 km]'), ('Resulting earthquake no:', '004249')), (('004244', 2011, 10, 23, 11, 7, 33, 72, 38.7508, 43.2342, 3.9, 'DAGONU- (VAN) [South West  1.5 km]'), ('Resulting earthquake no:', '004249')), (('004246', 2011, 10, 23, 10, 56, 49, 0, 38.8137, 43.4462, 5.6, 'GEDIKBULAK- (VAN) [South East  2.4 km]'), ('Resulting earthquake no:', '004249')), (('004247', 2011, 10, 23, 10, 52, 3, 87, 38.8157, 43.3382, 4.9, 'ESENPINAR- (VAN) [North East  1.8 km]'), ('Resulting earthquake no:', '004249')), (('004248', 2011, 10, 23, 10, 48, 17, 42, 38.7513, 43.5952, 5.1, 'ILIKAYNAK- (VAN) [West 1.7 km]'), ('Resulting earthquake no:', '004249')), (('005469', 2008, 7, 16, 0, 10, 18, 20, 35.6293, 27.9393, 3.9, 'AKDENIZ'), ('Resulting earthquake no:', '005473')), (('005470', 2008, 7, 15, 23, 52, 36, 36, 35.7697, 27.8812, 5.2, 'AKDENIZ'), ('Resulting earthquake no:', '005473')), (('007863', 2003, 5, 2, 0, 22, 15, 60, 38.98, 40.4, 3.8, 'KARTAL- (BINGOL) [South West  2.1 km]'), ('Resulting earthquake no:', '007882')), (('007864', 2003, 5, 2, 0, 1, 13, 0, 38.96, 40.53, 3.7, 'AGACYOLU- (BINGOL) [South East  0.8 km]'), ('Resulting earthquake no:', '007882')), (('007865', 2003, 5, 1, 19, 10, 31, 20, 39.04, 40.48, 3.5, 'OGULDERE- (BINGOL) [South East  0.7 km]'), ('Resulting earthquake no:', '007882')), (('007866', 2003, 5, 1, 18, 16, 14, 90, 38.97, 40.44, 3.8, 'CICEKDERE- (BINGOL) [North West  1.8 km]'), ('Resulting earthquake no:', '007882')), (('007867', 2003, 5, 1, 16, 40, 52, 10, 39.05, 40.41, 3.6, 'SUDUGUNU- (BINGOL) [West 2.2 km]'), ('Resulting earthquake no:', '007882')), (('007869', 2003, 5, 1, 11, 51, 38, 70, 39.07, 40.46, 3.6, 'SUDUGUNU- (BINGOL) [North East  3.0 km]'), ('Resulting earthquake no:', '007882')), (('007870', 2003, 5, 1, 10, 31, 45, 30, 38.98, 40.36, 3.9, 'GOKCEKANAT- (BINGOL) [North East  3.3 km]'), ('Resulting earthquake no:', '007882')), (('007871', 2003, 5, 1, 9, 35, 52, 30, 38.97, 40.52, 4.1, 'AGACYOLU- (BINGOL) [North West  0.7 km]'), ('Resulting earthquake no:', '007882')), (('007872', 2003, 5, 1, 8, 40, 56, 80, 39.01, 40.42, 3.5, 'KARTAL- (BINGOL) [North East  1.7 km]'), ('Resulting earthquake no:', '007882')), (('007873', 2003, 5, 1, 6, 53, 37, 40, 39.07, 40.43, 3.5, 'SUDUGUNU- (BINGOL) [North West  2.1 km]'), ('Resulting earthquake no:', '007882')), (('007874', 2003, 5, 1, 6, 34, 44, 60, 39.07, 40.26, 4.2, 'GUNGOREN- (BINGOL) [South West  3.0 km]'), ('Resulting earthquake no:', '007882')), (('007875', 2003, 5, 1, 1, 57, 49, 60, 39.04, 40.5, 3.5, 'OGULDERE- (BINGOL) [South East  2.0 km]'), ('Resulting earthquake no:', '007882')), (('007876', 2003, 5, 1, 1, 48, 29, 50, 39.05, 40.48, 3.7, 'OGULDERE- (BINGOL) [North East  0.5 km]'), ('Resulting earthquake no:', '007882')), (('007877', 2003, 5, 1, 1, 31, 26, 40, 38.91, 40.39, 3.7, 'BILALOGLU- (BINGOL) [South West  1.4 km]'), ('Resulting earthquake no:', '007882')), (('007878', 2003, 5, 1, 1, 21, 17, 20, 39.02, 40.49, 3.5, 'KURTULUS- (BINGOL) [South West  1.5 km]'), ('Resulting earthquake no:', '007882')), (('007879', 2003, 5, 1, 1, 14, 22, 80, 38.99, 40.38, 3.5, 'KARTAL- (BINGOL) [South West  3.0 km]'), ('Resulting earthquake no:', '007882')), (('007880', 2003, 5, 1, 1, 1, 33, 60, 39.01, 40.33, 3.5, 'YAZGULU- (BINGOL) [South East  2.4 km]'), ('Resulting earthquake no:', '007882')), (('007881', 2003, 5, 1, 0, 41, 58, 40, 39.0, 40.37, 4.2, 'KARTAL- (BINGOL) [West 3.8 km]'), ('Resulting earthquake no:', '007882')), (('009002', 1999, 11, 13, 13, 13, 55, 30, 40.73, 31.22, 3.5, 'UGUR- (DUZCE) [South East  1.4 km]'), ('Resulting earthquake no:', '009044')), (('009007', 1999, 11, 13, 8, 36, 17, 80, 40.75, 31.23, 4.0, 'UGUR- (DUZCE) [North East  2.3 km]'), ('Resulting earthquake no:', '009044')), (('009009', 1999, 11, 13, 8, 14, 35, 60, 40.8, 31.01, 4.2, 'ICMELER-GOLYAKA (DUZCE) [South West  1.7 km]'), ('Resulting earthquake no:', '009044')), (('009010', 1999, 11, 13, 8, 2, 31, 30, 40.81, 31.18, 4.0, 'PINARLAR- (DUZCE) [North West  1.2 km]'), ('Resulting earthquake no:', '009044')), (('009011', 1999, 11, 13, 4, 21, 0, 0, 40.75, 31.33, 4.0, 'MURATBEY-KAYNASLI (DUZCE) [North 1.8 km]'), ('Resulting earthquake no:', '009044')), (('009012', 1999, 11, 13, 4, 10, 0, 0, 40.74, 31.38, 4.2, 'YESILTEPE-KAYNASLI (DUZCE) [North East  0.2 km]'), ('Resulting earthquake no:', '009044')), (('009013', 1999, 11, 13, 3, 57, 0, 0, 40.75, 31.12, 4.2, 'AYDINPINAR- (DUZCE) [South East  1.7 km]'), ('Resulting earthquake no:', '009044')), (('009014', 1999, 11, 13, 3, 27, 0, 0, 40.77, 31.37, 4.0, 'DARIYERIHASANBEY-KAYNASLI (DUZCE) [South East  2.4 km]'), ('Resulting earthquake no:', '009044')), (('009015', 1999, 11, 13, 2, 59, 0, 0, 40.75, 31.15, 4.2, 'AKTARLA- (DUZCE) [North East  0.6 km]'), ('Resulting earthquake no:', '009044')), (('009017', 1999, 11, 13, 1, 57, 0, 0, 40.75, 31.35, 4.0, 'MURATBEY-KAYNASLI (DUZCE) [North East  2.3 km]'), ('Resulting earthquake no:', '009044')), (('009018', 1999, 11, 13, 1, 2, 0, 0, 40.75, 31.4, 4.3, 'DARIYERIBAKACAK-KAYNASLI (DUZCE) [East 1.2 km]'), ('Resulting earthquake no:', '009044')), (('009019', 1999, 11, 13, 0, 54, 0, 0, 40.72, 31.0, 4.7, 'BAKACAK-GOLYAKA (DUZCE) [South East  2.4 km]'), ('Resulting earthquake no:', '009044')), (('009021', 1999, 11, 12, 23, 11, 0, 0, 40.73, 31.41, 4.0, 'YESILTEPE-KAYNASLI (DUZCE) [South East  2.9 km]'), ('Resulting earthquake no:', '009044')), (('009022', 1999, 11, 12, 22, 49, 0, 0, 40.75, 31.05, 4.2, 'HAMAMUSTU-GOLYAKA (DUZCE) [North East  1.0 km]'), ('Resulting earthquake no:', '009044')), (('009023', 1999, 11, 12, 22, 38, 0, 0, 40.76, 31.3, 4.1, 'TAVAK-KAYNASLI (DUZCE) [North 1.7 km]'), ('Resulting earthquake no:', '009044')), (('009024', 1999, 11, 12, 22, 21, 0, 0, 40.75, 31.39, 4.8, 'DARIYERIBAKACAK-KAYNASLI (DUZCE) [East 0.4 km]'), ('Resulting earthquake no:', '009044')), (('009025', 1999, 11, 12, 21, 38, 0, 0, 40.76, 31.1, 4.4, 'AYDINPINAR- (DUZCE) [South West  0.8 km]'), ('Resulting earthquake no:', '009044')), (('009026', 1999, 11, 12, 21, 25, 0, 0, 40.74, 31.03, 4.0, 'CAMLIBEL-GOLYAKA (DUZCE) [North East  0.9 km]'), ('Resulting earthquake no:', '009044')), (('009027', 1999, 11, 12, 20, 54, 0, 0, 40.76, 31.38, 4.5, 'DARIYERIBAKACAK-KAYNASLI (DUZCE) [North West  1.2 km]'), ('Resulting earthquake no:', '009044')), (('009028', 1999, 11, 12, 20, 5, 0, 0, 40.74, 31.0, 4.5, 'YUNUSEFENDI-GOLYAKA (DUZCE) [South West  1.1 km]'), ('Resulting earthquake no:', '009044')), (('009029', 1999, 11, 12, 19, 16, 0, 0, 40.74, 31.38, 4.7, 'YESILTEPE-KAYNASLI (DUZCE) [North East  0.2 km]'), ('Resulting earthquake no:', '009044')), (('009030', 1999, 11, 12, 19, 7, 0, 0, 40.77, 31.2, 4.5, 'GUVEN- (DUZCE) [South West  0.5 km]'), ('Resulting earthquake no:', '009044')), (('009031', 1999, 11, 12, 19, 0, 0, 0, 40.75, 31.09, 4.2, 'GOLORMANI- (DUZCE) [South East  1.2 km]'), ('Resulting earthquake no:', '009044')), (('009032', 1999, 11, 12, 18, 24, 0, 0, 40.76, 31.11, 4.7, 'AYDINPINAR- (DUZCE) [South East  0.3 km]'), ('Resulting earthquake no:', '009044')), (('009033', 1999, 11, 12, 18, 14, 0, 0, 40.75, 31.36, 5.0, 'YESILTEPE-KAYNASLI (DUZCE) [North West  2.0 km]'), ('Resulting earthquake no:', '009044')), (('009035', 1999, 11, 12, 17, 57, 0, 0, 40.74, 31.4, 4.8, 'DARIYERIBAKACAK-KAYNASLI (DUZCE) [South East  1.6 km]'), ('Resulting earthquake no:', '009044')), (('009036', 1999, 11, 12, 17, 54, 0, 0, 40.77, 31.26, 4.7, 'FINDIKLI-KAYNASLI (DUZCE) [South East  0.4 km]'), ('Resulting earthquake no:', '009044')), (('009037', 1999, 11, 12, 17, 52, 0, 0, 40.76, 31.22, 4.8, 'OZYANIK- (DUZCE) [South West  1.4 km]'), ('Resulting earthquake no:', '009044')), (('009040', 1999, 11, 12, 17, 27, 0, 0, 40.75, 31.4, 5.2, 'DARIYERIBAKACAK-KAYNASLI (DUZCE) [East 1.2 km]'), ('Resulting earthquake no:', '009044')), (('009041', 1999, 11, 12, 17, 23, 0, 0, 40.76, 31.16, 5.1, 'KALEDIBI- (DUZCE) [South West  1.3 km]'), ('Resulting earthquake no:', '009044')), (('009042', 1999, 11, 12, 17, 18, 0, 0, 40.74, 31.05, 5.4, 'HAMAMUSTU-GOLYAKA (DUZCE) [South East  1.2 km]'), ('Resulting earthquake no:', '009044')), (('009043', 1999, 11, 12, 17, 17, 0, 0, 40.75, 31.1, 5.2, 'AYDINPINAR- (DUZCE) [South West  1.6 km]'), ('Resulting earthquake no:', '009044')), (('009254', 1999, 8, 17, 15, 17, 52, 0, 40.75, 29.75, 4.1, 'KORFEZ (KOCAELI) [South East  3.1 km]'), ('Resulting earthquake no:', '009260')), (('009578', 1998, 6, 28, 3, 59, 24, 80, 37.0, 35.68, 4.9, 'CAKALDERE-CEYHAN (ADANA) [North West  1.0 km]'), ('Resulting earthquake no:', '009588')), (('009580', 1998, 6, 27, 20, 50, 16, 30, 36.84, 35.56, 4.1, 'CATALPINAR-YUREGIR (ADANA) [North West  2.0 km]'), ('Resulting earthquake no:', '009588')), (('009581', 1998, 6, 27, 20, 3, 7, 30, 36.97, 35.65, 3.7, 'CAKALDERE-CEYHAN (ADANA) [South West  3.8 km]'), ('Resulting earthquake no:', '009588')), (('009583', 1998, 6, 27, 18, 54, 39, 0, 37.01, 35.68, 4.0, 'CAKALDERE-CEYHAN (ADANA) [North 2.1 km]'), ('Resulting earthquake no:', '009588')), (('009584', 1998, 6, 27, 15, 12, 18, 40, 36.97, 35.7, 3.5, 'COKCAPINAR-CEYHAN (ADANA) [South West  2.1 km]'), ('Resulting earthquake no:', '009588')), (('009587', 1998, 6, 27, 14, 7, 37, 20, 36.81, 35.61, 4.2, 'AKPINAR-YUREGIR (ADANA) [South East  1.0 km]'), ('Resulting earthquake no:', '009588')), (('011243', 1992, 3, 14, 1, 24, 34, 50, 39.63, 39.69, 4.6, 'KUCUKKADAGAN- (ERZINCAN) [South East  1.7 km]'), ('Resulting earthquake no:', '011247'))]\n"
          ],
          "name": "stdout"
        }
      ]
    }
  ]
}