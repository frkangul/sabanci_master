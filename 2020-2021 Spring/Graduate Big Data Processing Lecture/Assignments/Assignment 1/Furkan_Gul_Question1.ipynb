{
  "nbformat": 4,
  "nbformat_minor": 0,
  "metadata": {
    "colab": {
      "name": "Furkan_Gul_Question1.ipynb",
      "provenance": [],
      "collapsed_sections": []
    },
    "kernelspec": {
      "name": "python3",
      "display_name": "Python 3"
    },
    "language_info": {
      "name": "python"
    }
  },
  "cells": [
    {
      "cell_type": "code",
      "metadata": {
        "colab": {
          "base_uri": "https://localhost:8080/"
        },
        "id": "hniFzeBv3YWg",
        "outputId": "edd0fe64-850e-48a6-e56f-80e760ea1549"
      },
      "source": [
        "# I could not install Spark on local PyCharm application. \n",
        "# That's why I am using Colab as you already suggested in the lecture.\n",
        "from google.colab import drive\n",
        "drive.mount('/content/drive')"
      ],
      "execution_count": 1,
      "outputs": [
        {
          "output_type": "stream",
          "text": [
            "Mounted at /content/drive\n"
          ],
          "name": "stdout"
        }
      ]
    },
    {
      "cell_type": "code",
      "metadata": {
        "id": "2aZc_Jff3eo_",
        "colab": {
          "base_uri": "https://localhost:8080/"
        },
        "outputId": "0a38f116-316a-4345-e898-917492e74424"
      },
      "source": [
        "# Install specific Java and Spark for Python.\n",
        "!apt-get update\n",
        "!apt-get install openjdk-8-jdk-headless -qq > /dev/null\n",
        "import os\n",
        "os.environ[\"JAVA_HOME\"] = \"/usr/lib/jvm/java-8-openjdk-amd64\"\n",
        "!update-alternatives --set java /usr/lib/jvm/java-8-openjdk-amd64/jre/bin/java\n",
        "!java -version\n",
        "!pip install pyspark"
      ],
      "execution_count": 2,
      "outputs": [
        {
          "output_type": "stream",
          "text": [
            "\r0% [Working]\r            \rIgn:1 https://developer.download.nvidia.com/compute/cuda/repos/ubuntu1804/x86_64  InRelease\n",
            "\r0% [Connecting to archive.ubuntu.com] [Connecting to security.ubuntu.com] [Wait\r                                                                               \rGet:2 https://cloud.r-project.org/bin/linux/ubuntu bionic-cran40/ InRelease [3,626 B]\n",
            "\r0% [Connecting to archive.ubuntu.com] [Connecting to security.ubuntu.com] [2 In\r0% [Connecting to archive.ubuntu.com] [Connecting to security.ubuntu.com] [Conn\r                                                                               \rIgn:3 https://developer.download.nvidia.com/compute/machine-learning/repos/ubuntu1804/x86_64  InRelease\n",
            "\r0% [Connecting to archive.ubuntu.com] [Connecting to security.ubuntu.com] [Conn\r0% [2 InRelease gpgv 3,626 B] [Connecting to archive.ubuntu.com] [Connecting to\r                                                                               \rHit:4 https://developer.download.nvidia.com/compute/cuda/repos/ubuntu1804/x86_64  Release\n",
            "Hit:5 https://developer.download.nvidia.com/compute/machine-learning/repos/ubuntu1804/x86_64  Release\n",
            "Get:6 http://security.ubuntu.com/ubuntu bionic-security InRelease [88.7 kB]\n",
            "Get:7 http://ppa.launchpad.net/c2d4u.team/c2d4u4.0+/ubuntu bionic InRelease [15.9 kB]\n",
            "Hit:8 http://archive.ubuntu.com/ubuntu bionic InRelease\n",
            "Get:10 http://archive.ubuntu.com/ubuntu bionic-updates InRelease [88.7 kB]\n",
            "Hit:12 http://ppa.launchpad.net/cran/libgit2/ubuntu bionic InRelease\n",
            "Get:13 http://archive.ubuntu.com/ubuntu bionic-backports InRelease [74.6 kB]\n",
            "Get:14 http://ppa.launchpad.net/deadsnakes/ppa/ubuntu bionic InRelease [15.9 kB]\n",
            "Hit:15 http://ppa.launchpad.net/graphics-drivers/ppa/ubuntu bionic InRelease\n",
            "Get:16 http://ppa.launchpad.net/c2d4u.team/c2d4u4.0+/ubuntu bionic/main Sources [1,751 kB]\n",
            "Get:17 http://archive.ubuntu.com/ubuntu bionic-updates/universe amd64 Packages [2,173 kB]\n",
            "Get:18 http://archive.ubuntu.com/ubuntu bionic-updates/main amd64 Packages [2,476 kB]\n",
            "Get:19 http://ppa.launchpad.net/c2d4u.team/c2d4u4.0+/ubuntu bionic/main amd64 Packages [896 kB]\n",
            "Get:20 http://ppa.launchpad.net/deadsnakes/ppa/ubuntu bionic/main amd64 Packages [39.5 kB]\n",
            "Fetched 7,622 kB in 4s (1,754 kB/s)\n",
            "Reading package lists... Done\n",
            "update-alternatives: using /usr/lib/jvm/java-8-openjdk-amd64/jre/bin/java to provide /usr/bin/java (java) in manual mode\n",
            "openjdk version \"1.8.0_282\"\n",
            "OpenJDK Runtime Environment (build 1.8.0_282-8u282-b08-0ubuntu1~18.04-b08)\n",
            "OpenJDK 64-Bit Server VM (build 25.282-b08, mixed mode)\n",
            "Collecting pyspark\n",
            "\u001b[?25l  Downloading https://files.pythonhosted.org/packages/45/b0/9d6860891ab14a39d4bddf80ba26ce51c2f9dc4805e5c6978ac0472c120a/pyspark-3.1.1.tar.gz (212.3MB)\n",
            "\u001b[K     |████████████████████████████████| 212.3MB 62kB/s \n",
            "\u001b[?25hCollecting py4j==0.10.9\n",
            "\u001b[?25l  Downloading https://files.pythonhosted.org/packages/9e/b6/6a4fb90cd235dc8e265a6a2067f2a2c99f0d91787f06aca4bcf7c23f3f80/py4j-0.10.9-py2.py3-none-any.whl (198kB)\n",
            "\u001b[K     |████████████████████████████████| 204kB 50.6MB/s \n",
            "\u001b[?25hBuilding wheels for collected packages: pyspark\n",
            "  Building wheel for pyspark (setup.py) ... \u001b[?25l\u001b[?25hdone\n",
            "  Created wheel for pyspark: filename=pyspark-3.1.1-py2.py3-none-any.whl size=212767604 sha256=40063dfdbe2a9c298e1739498764520141d9c2bbeb2401640c142f5ee00f2254\n",
            "  Stored in directory: /root/.cache/pip/wheels/0b/90/c0/01de724414ef122bd05f056541fb6a0ecf47c7ca655f8b3c0f\n",
            "Successfully built pyspark\n",
            "Installing collected packages: py4j, pyspark\n",
            "Successfully installed py4j-0.10.9 pyspark-3.1.1\n"
          ],
          "name": "stdout"
        }
      ]
    },
    {
      "cell_type": "code",
      "metadata": {
        "colab": {
          "base_uri": "https://localhost:8080/",
          "height": 193
        },
        "id": "0OgRthqT33Yx",
        "outputId": "283a3703-6208-4d92-dc84-c6dac4996817"
      },
      "source": [
        "# Check to see if I installed Spark correctly or not.\n",
        "from pyspark import SparkContext\n",
        "sc = SparkContext.getOrCreate()\n",
        "sc"
      ],
      "execution_count": 3,
      "outputs": [
        {
          "output_type": "execute_result",
          "data": {
            "text/html": [
              "\n",
              "        <div>\n",
              "            <p><b>SparkContext</b></p>\n",
              "\n",
              "            <p><a href=\"http://e80ff3da0dcf:4040\">Spark UI</a></p>\n",
              "\n",
              "            <dl>\n",
              "              <dt>Version</dt>\n",
              "                <dd><code>v3.1.1</code></dd>\n",
              "              <dt>Master</dt>\n",
              "                <dd><code>local[*]</code></dd>\n",
              "              <dt>AppName</dt>\n",
              "                <dd><code>pyspark-shell</code></dd>\n",
              "            </dl>\n",
              "        </div>\n",
              "        "
            ],
            "text/plain": [
              "<SparkContext master=local[*] appName=pyspark-shell>"
            ]
          },
          "metadata": {
            "tags": []
          },
          "execution_count": 3
        }
      ]
    },
    {
      "cell_type": "code",
      "metadata": {
        "colab": {
          "base_uri": "https://localhost:8080/"
        },
        "id": "pI8fTgCv3o9P",
        "outputId": "3902d7e5-e8aa-4df0-8896-0c08f5c72838"
      },
      "source": [
        "# Inspect capital dataset.\n",
        "capitalRDD = sc.textFile(\"/content/drive/MyDrive/Colab Notebooks/BDP/Datasets-20210410/Capitals.txt\")\n",
        "print(capitalRDD.collect()) # Since I am not working on Hadoop cluster, I can safely use collect method instead of take method \n",
        "\n",
        "# After the data inspection, it is realized that words in each line are seperated by tab (\\t) and \n",
        "# the first element in each line is not necessaray.\n",
        "\n",
        "# First float value is latitude and second float value is longitude of each capital.\n",
        "\n",
        "# There is no header or no space lines in the dataset. So, no need for filtering these.\n",
        "\n",
        "# The numbers must be in decimal degrees format and range from -90 to 90 for latitude and -180 to 180 for longitude. So, we need to\n",
        "# filter out wrong values (out of interval) for latitude and longitude\n",
        "\n",
        "# Let's preprocess our data by considering earlier inspection\n",
        "def split_and_take_important_columns(line):\n",
        "  arr = line.split(\"\\t\")\n",
        "  lat = float(arr[3].replace(\",\",  \".\"))\n",
        "  longt = float(arr[4].replace(\",\",  \".\"))\n",
        "  city = arr[2].strip()\n",
        "  return (city, lat, longt)\n",
        "\n",
        "capitalRDD = capitalRDD.filter(lambda x: len(x) > 1) # Filter empty lines if they exits\n",
        "capitalRDD = capitalRDD.map(lambda line: split_and_take_important_columns(line))\n",
        "# Filter out wrong values for latitude and longitude if they exit.\n",
        "capitalRDD = capitalRDD.filter(lambda line: -90<=line[1]<=90)\n",
        "capitalRDD = capitalRDD.filter(lambda line: -180<=line[2]<=180)\n",
        "print(capitalRDD.take(10))"
      ],
      "execution_count": 4,
      "outputs": [
        {
          "output_type": "stream",
          "text": [
            "['Afghanistan Flag Icon \\tAfghanistan \\tKabul \\t34,53 \\t69,17\\t', 'Albania Flag Icon \\tAlbania \\tTirana \\t41,33 \\t19,82\\t', 'Algeria Flag Icon \\tAlgeria \\tAlgiers \\t36,75 \\t3,04\\t', 'American Samoa Flag Icon \\tAmerican Samoa \\tPago Pago \\t-14,28 \\t-170,70\\t', 'Andorra Flag Icon \\tAndorra \\tAndorra la Vella \\t42,51 \\t1,52\\t', 'Angola Flag Icon \\tAngola \\tLuanda \\t-8,84 \\t13,23\\t', 'Anguilla Flag Icon \\tAnguilla \\tThe Valley \\t18,22 \\t-63,06\\t', \"Antigua and Barbuda Flag Icon \\tAntigua and Barbuda \\tSt. John's \\t17,12 \\t-61,85\\t\", 'Argentina Flag Icon \\tArgentina \\tBuenos Aires \\t-34,61 \\t-58,38\\t', 'Armenia Flag Icon \\tArmenia \\tYerevan \\t40,18 \\t44,51\\t', 'Aruba Flag Icon \\tAruba \\tOranjestad \\t12,52 \\t-70,03\\t', 'Australia Flag Icon \\tAustralia \\tCanberra \\t-35,28 \\t149,13\\t', 'Austria Flag Icon \\tAustria \\tVienna \\t48,21 \\t16,37\\t', 'Azerbaijan Flag Icon \\tAzerbaijan \\tBaku \\t40,38 \\t49,89\\t', 'Bahamas Flag Icon \\tBahamas \\tNassau \\t25,06 \\t-77,34\\t', 'Bahrain Flag Icon \\tBahrain \\tManama \\t26,22 \\t50,58\\t', 'Bangladesh Flag Icon \\tBangladesh \\tDhaka \\t23,71 \\t90,41\\t', 'Barbados Flag Icon \\tBarbados \\tBridgetown \\t13,10 \\t-59,62\\t', 'Belarus Flag Icon \\tBelarus \\tMinsk \\t53,90 \\t27,57\\t', 'Belgium Flag Icon \\tBelgium \\tBrussels \\t50,85 \\t4,35\\t', 'Belize Flag Icon \\tBelize \\tBelmopan \\t17,25 \\t-88,77\\t', 'Benin Flag Icon \\tBenin \\tPorto-Novo \\t6,50 \\t2,60\\t', 'Bermuda Flag Icon \\tBermuda \\tHamilton \\t32,29 \\t-64,78\\t', 'Bhutan Flag Icon \\tBhutan \\tThimphu \\t27,47 \\t89,64\\t', 'Bolivia Flag Icon \\tBolivia \\tSucre \\t-19,03 \\t-65,26\\t', 'Bosnia and Herzegovina Flag Icon \\tBosnia and Herzegovina \\tSarajevo \\t43,85 \\t18,36\\t', 'Botswana Flag Icon \\tBotswana \\tGaborone \\t-24,65 \\t25,91\\t', 'Brazil Flag Icon \\tBrazil \\tBrasília \\t-15,78 \\t-47,93\\t', 'British Indian Ocean Territory Flag Icon \\tBritish Indian Ocean Territory \\tDiego Garcia \\t72,46 \\t7,24\\t', 'British Virgin Islands Flag Icon \\tBritish Virgin Islands \\tRoad Town \\t18,42 \\t-64,62\\t', 'Brunei Flag Icon \\tBrunei \\tBandar Seri Begawan \\t4,94 \\t114,95\\t', 'Bulgaria Flag Icon \\tBulgaria \\tSofia \\t42,70 \\t23,32\\t', 'Burkina Faso Flag Icon \\tBurkina Faso \\tOuagadougou \\t12,37 \\t-1,53\\t', 'Burundi Flag Icon \\tBurundi \\tBujumbura \\t-3,38 \\t29,36\\t', 'Cambodia Flag Icon \\tCambodia \\tPhnom Penh \\t11,56 \\t104,92\\t', 'Cameroon Flag Icon \\tCameroon \\tYaoundé \\t3,87 \\t11,52\\t', 'Canada Flag Icon \\tCanada \\tOttawa \\t45,41 \\t-75,70\\t', 'Cape Verde Flag Icon \\tCape Verde \\tPraia \\t14,93 \\t-23,51\\t', 'Cayman Islands Flag Icon \\tCayman Islands \\tGeorge Town \\t19,29 \\t-81,37\\t', 'Central African Republic Flag Icon \\tCentral African Republic \\tBangui \\t4,36 \\t18,55\\t', \"Chad Flag Icon \\tChad \\tN'Djamena \\t12,11 \\t15,04\\t\", 'Chile Flag Icon \\tChile \\tSantiago \\t-33,46 \\t-70,65\\t', 'China Flag Icon \\tChina \\tBeijing \\t39,91 \\t116,40\\t', 'Christmas Island Flag Icon \\tChristmas Island \\tThe Settlement \\t-10,42 \\t105,68\\t', 'Cocos Islands Flag Icon \\tCocos Islands \\tWest Island \\t-12,16 \\t96,82\\t', 'Colombia Flag Icon \\tColombia \\tBogotá \\t4,61 \\t-74,08\\t', 'Comoros Flag Icon \\tComoros \\tMoroni \\t-11,70 \\t43,26\\t', 'Cook Islands Flag Icon \\tCook Islands \\tAvarua \\t-21,21 \\t-159,78\\t', 'Costa Rica Flag Icon \\tCosta Rica \\tSan José \\t9,93 \\t-84,08\\t', 'Croatia Flag Icon \\tCroatia \\tZagreb \\t45,81 \\t15,98\\t', 'Cuba Flag Icon \\tCuba \\tHavana \\t23,13 \\t-82,38\\t', 'Cyprus Flag Icon \\tCyprus \\tNicosia \\t35,17 \\t33,37\\t', 'Czech Republic Flag Icon \\tCzech Republic \\tPrague \\t50,09 \\t14,42\\t', 'Democratic Republic of the Congo Flag Icon \\tDemocratic Republic of the Congo \\tKinshasa \\t-4,32 \\t15,31\\t', 'Denmark Flag Icon \\tDenmark \\tCopenhagen \\t55,68 \\t12,57\\t', 'Djibouti Flag Icon \\tDjibouti \\tDjibouti \\t11,59 \\t43,15\\t', 'Dominica Flag Icon \\tDominica \\tRoseau \\t15,30 \\t-61,39\\t', 'Dominican Republic Flag Icon \\tDominican Republic \\tSanto Domingo \\t18,50 \\t-69,99\\t', 'East Timor Flag Icon \\tEast Timor \\tDili \\t-8,56 \\t125,57\\t', 'Ecuador Flag Icon \\tEcuador \\tQuito \\t-0,23 \\t-78,52\\t', 'Egypt Flag Icon \\tEgypt \\tCairo \\t30,06 \\t31,25\\t', 'El Salvador Flag Icon \\tEl Salvador \\tSan Salvador \\t13,69 \\t-89,19\\t', 'Equatorial Guinea Flag Icon \\tEquatorial Guinea \\tMalabo \\t3,75 \\t8,78\\t', 'Eritrea Flag Icon \\tEritrea \\tAsmara \\t15,33 \\t38,93\\t', 'Estonia Flag Icon \\tEstonia \\tTallinn \\t59,44 \\t24,75\\t', 'Ethiopia Flag Icon \\tEthiopia \\tAddis Ababa \\t9,02 \\t38,75\\t', 'Falkland Islands Flag Icon \\tFalkland Islands \\tStanley \\t-51,70 \\t-57,85\\t', 'Faroe Islands Flag Icon \\tFaroe Islands \\tTórshavn \\t62,01 \\t-6,77\\t', 'Fiji Flag Icon \\tFiji \\tSuva \\t-18,14 \\t178,44\\t', 'Finland Flag Icon \\tFinland \\tHelsinki \\t60,17 \\t24,94\\t', 'France Flag Icon \\tFrance \\tParis \\t48,85 \\t2,35\\t', 'French Guiana Flag Icon \\tFrench Guiana \\tCayenne \\t4,93 \\t-52,33\\t', 'French Polynesia Flag Icon \\tFrench Polynesia \\tPapeete \\t-17,53 \\t-149,57\\t', 'Gabon Flag Icon \\tGabon \\tLibreville \\t0,39 \\t9,45\\t', 'Gambia Flag Icon \\tGambia \\tBanjul \\t13,45 \\t-16,58\\t', 'Georgia Flag Icon \\tGeorgia \\tTbilisi \\t41,69 \\t44,83\\t', 'Germany Flag Icon \\tGermany \\tBerlin \\t52,52 \\t13,41\\t', 'Ghana Flag Icon \\tGhana \\tAccra \\t5,56 \\t-0,20\\t', 'Gibraltar Flag Icon \\tGibraltar \\tGibraltar \\t36,14 \\t-5,35\\t', 'Greece Flag Icon \\tGreece \\tAthens \\t37,98 \\t23,72\\t', 'Greenland Flag Icon \\tGreenland \\tNuuk (Godthåb) \\t64,18 \\t-51,72\\t', \"Grenada Flag Icon \\tGrenada \\tSt. George's \\t12,06 \\t-61,75\\t\", 'Guadeloupe Flag Icon \\tGuadeloupe \\tBasse-Terre \\t16,00 \\t-61,73\\t', 'Guam Flag Icon \\tGuam \\tHagåtña \\t13,48 \\t144,75\\t', 'Guatemala Flag Icon \\tGuatemala \\tNew Guatemala \\t14,64 \\t-90,51\\t', 'Guernsey Flag Icon \\tGuernsey \\tSt Peter Port \\t49,46 \\t-2,54\\t', 'Guinea Flag Icon \\tGuinea \\tConakry \\t9,54 \\t-13,68\\t', 'Guinea-Bissau Flag Icon \\tGuinea-Bissau \\tBissau \\t11,86 \\t-15,60\\t', 'Guyana Flag Icon \\tGuyana \\tGeorgetown \\t6,80 \\t-58,16\\t', 'Haiti Flag Icon \\tHaiti \\tPort-au-Prince \\t18,54 \\t-72,34\\t', 'Honduras Flag Icon \\tHonduras \\tTegucigalpa \\t14,08 \\t-87,21\\t', 'Hong Kong Flag Icon \\tHong Kong \\tHong Kong \\t22,29 \\t114,16\\t', 'Hungary Flag Icon \\tHungary \\tBudapest \\t47,50 \\t19,04\\t', 'Iceland Flag Icon \\tIceland \\tReykjavík \\t64,14 \\t-21,90\\t', 'India Flag Icon \\tIndia \\tNew Delhi \\t28,64 \\t77,22\\t', 'Indonesia Flag Icon \\tIndonesia \\tJakarta \\t-6,21 \\t106,85\\t', 'Iran Flag Icon \\tIran \\tTehran \\t35,69 \\t51,42\\t', 'Iraq Flag Icon \\tIraq \\tBaghdad \\t33,34 \\t44,40\\t', 'Ireland Flag Icon \\tIreland \\tDublin \\t53,33 \\t-6,25\\t', 'Isle of Man Flag Icon \\tIsle of Man \\tDouglas \\t54,15 \\t-4,48\\t', 'Israel Flag Icon \\tIsrael \\tJerusalem \\t35,23 \\t31,77\\t', 'Italy Flag Icon \\tItaly \\tRome \\t41,89 \\t12,48\\t', 'Ivory Coast Flag Icon \\tIvory Coast \\tYamoussoukro \\t6,82 \\t-5,28\\t', 'Jamaica Flag Icon \\tJamaica \\tKingston \\t18,00 \\t-76,79\\t', 'Japan Flag Icon \\tJapan \\tEdo \\t35,69 \\t139,69\\t', 'Jersey Flag Icon \\tJersey \\tSaint Helier \\t49,19 \\t-2,10\\t', 'Jordan Flag Icon \\tJordan \\tAmman \\t31,96 \\t35,95\\t', 'Kazakhstan Flag Icon \\tKazakhstan \\tAstana \\t51,18 \\t71,45\\t', 'Kenya Flag Icon \\tKenya \\tNairobi \\t-1,28 \\t36,82\\t', 'Kiribati Flag Icon \\tKiribati \\tSouth Tarawa \\t1,33 \\t172,98\\t', 'Kosovo Flag Icon \\tKosovo \\tPristina \\t42,67 \\t21,17\\t', 'Kuwait Flag Icon \\tKuwait \\tKuwait City \\t29,37 \\t47,98\\t', 'Kyrgyzstan Flag Icon \\tKyrgyzstan \\tBishkek \\t42,87 \\t74,59\\t', 'Laos Flag Icon \\tLaos \\tVientiane \\t17,97 \\t102,60\\t', 'Latvia Flag Icon \\tLatvia \\tRiga \\t56,95 \\t24,11\\t', 'Lebanon Flag Icon \\tLebanon \\tBeirut \\t33,89 \\t35,49\\t', 'Lesotho Flag Icon \\tLesotho \\tMaseru \\t-29,32 \\t27,48\\t', 'Liberia Flag Icon \\tLiberia \\tMonrovia \\t6,30 \\t-10,80\\t', 'Libya Flag Icon \\tLibya \\tTripoli \\t32,88 \\t13,19\\t', 'Liechtenstein Flag Icon \\tLiechtenstein \\tVaduz \\t47,14 \\t9,52\\t', 'Lithuania Flag Icon \\tLithuania \\tVilnius \\t54,69 \\t25,28\\t', 'Luxembourg Flag Icon \\tLuxembourg \\tLuxembourg \\t49,61 \\t6,13\\t', 'Macao Flag Icon \\tMacao \\tMacao \\t22,20 \\t113,55\\t', 'Macedonia Flag Icon \\tMacedonia \\tSkopje \\t42,00 \\t21,43\\t', 'Madagascar Flag Icon \\tMadagascar \\tAntananarivo \\t-18,91 \\t47,54\\t', 'Malawi Flag Icon \\tMalawi \\tLilongwe \\t-13,97 \\t33,79\\t', 'Malaysia Flag Icon \\tMalaysia \\tKuala Lumpur \\t3,14 \\t101,69\\t', 'Maldives Flag Icon \\tMaldives \\tMalé \\t4,17 \\t73,51\\t', 'Mali Flag Icon \\tMali \\tBamako \\t12,65 \\t-8,00\\t', 'Malta Flag Icon \\tMalta \\tValletta \\t35,90 \\t14,51\\t', 'Marshall Islands Flag Icon \\tMarshall Islands \\tMajuro \\t7,09 \\t171,38\\t', 'Martinique Flag Icon \\tMartinique \\tFort-de-France \\t14,61 \\t-61,07\\t', 'Mauritania Flag Icon \\tMauritania \\tNouakchott \\t18,09 \\t-15,98\\t', 'Mauritius Flag Icon \\tMauritius \\tPort Louis \\t-20,16 \\t57,50\\t', 'Mayotte Flag Icon \\tMayotte \\tMamoutzou \\t-12,78 \\t45,23\\t', 'Mexico Flag Icon \\tMexico \\tMexico City \\t19,43 \\t-99,13\\t', 'Micronesia Flag Icon \\tMicronesia \\tPalikir \\t6,92 \\t158,16\\t', 'Moldova Flag Icon \\tMoldova \\tChişinău \\t47,01 \\t28,86\\t', 'Monaco Flag Icon \\tMonaco \\tMonaco \\t43,73 \\t7,42\\t', 'Mongolia Flag Icon \\tMongolia \\tUlan Bator \\t47,91 \\t106,88\\t', 'Montenegro Flag Icon \\tMontenegro \\tPodgorica \\t42,44 \\t19,26\\t', 'Montserrat Flag Icon \\tMontserrat \\tPlymouth \\t16,71 \\t-62,21\\t', 'Morocco Flag Icon \\tMorocco \\tRabat \\t34,01 \\t-6,83\\t', 'Mozambique Flag Icon \\tMozambique \\tMaputo \\t-25,97 \\t32,58\\t', 'Myanmar Flag Icon \\tMyanmar \\tNay Pyi Taw \\t19,75 \\t96,13\\t', 'Namibia Flag Icon \\tNamibia \\tWindhoek \\t-22,56 \\t17,08\\t', 'Nauru Flag Icon \\tNauru \\tYaren \\t166,93 \\t-0,54\\t', 'Nepal Flag Icon \\tNepal \\tKathmandu \\t27,70 \\t85,32\\t', 'Netherlands Flag Icon \\tNetherlands \\tAmsterdam \\t52,37 \\t4,89\\t', 'Netherlands Antilles Flag Icon \\tNetherlands Antilles \\tWillemstad \\t-68,92 \\t12,10\\t', 'New Caledonia Flag Icon \\tNew Caledonia \\tNoumea \\t-22,28 \\t166,46\\t', 'New Zealand Flag Icon \\tNew Zealand \\tWellington \\t-41,29 \\t174,78\\t', 'Nicaragua Flag Icon \\tNicaragua \\tManagua \\t12,13 \\t-86,25\\t', 'Niger Flag Icon \\tNiger \\tNiamey \\t13,51 \\t2,11\\t', 'Nigeria Flag Icon \\tNigeria \\tAbuja \\t9,07 \\t7,48\\t', 'Niue Flag Icon \\tNiue \\tAlofi \\t-19,06 \\t-169,92\\t', 'Norfolk Island Flag Icon \\tNorfolk Island \\tKingston \\t-29,05 \\t167,97\\t', 'North Korea Flag Icon \\tNorth Korea \\tPyongyang \\t39,03 \\t125,75\\t', 'Northern Mariana Islands Flag Icon \\tNorthern Mariana Islands \\tSaipan \\t15,21 \\t145,75\\t', 'Norway Flag Icon \\tNorway \\tOslo \\t59,91 \\t10,75\\t', 'Oman Flag Icon \\tOman \\tMuscat \\t23,61 \\t58,59\\t', 'Pakistan Flag Icon \\tPakistan \\tIslamabad \\t33,72 \\t73,04\\t', 'Palau Flag Icon \\tPalau \\tMelekeok \\t7,50 \\t134,62\\t', 'Palestinian Territory Flag Icon \\tPalestinian Territory \\tEast Jerusalem \\t35,23 \\t31,77\\t', 'Panama Flag Icon \\tPanama \\tPanama City \\t8,99 \\t-79,52\\t', 'Papua New Guinea Flag Icon \\tPapua New Guinea \\tPort Moresby \\t-9,44 \\t147,18\\t', 'Paraguay Flag Icon \\tParaguay \\tAsunción \\t-25,30 \\t-57,64\\t', 'Peru Flag Icon \\tPeru \\tLima \\t-12,04 \\t-77,03\\t', 'Philippines Flag Icon \\tPhilippines \\tManila \\t14,60 \\t120,98\\t', 'Pitcairn Flag Icon \\tPitcairn \\tAdamstown \\t-25,07 \\t-130,10\\t', 'Poland Flag Icon \\tPoland \\tWarsaw \\t52,23 \\t21,01\\t', 'Portugal Flag Icon \\tPortugal \\tLisbon \\t38,72 \\t-9,13\\t', 'Puerto Rico Flag Icon \\tPuerto Rico \\tSan Juan \\t18,47 \\t-66,11\\t', 'Qatar Flag Icon \\tQatar \\tDoha \\t25,28 \\t51,52\\t', 'Republic of the Congo Flag Icon \\tRepublic of the Congo \\tBrazzaville \\t-4,27 \\t15,28\\t', 'Reunion Flag Icon \\tReunion \\tSaint-Denis \\t-20,88 \\t55,45\\t', 'Romania Flag Icon \\tRomania \\tBucharest \\t44,43 \\t26,11\\t', 'Russia Flag Icon \\tRussia \\tMoscow \\t55,75 \\t37,62\\t', 'Rwanda Flag Icon \\tRwanda \\tKigali \\t-1,95 \\t30,06\\t', 'Saint Barthélemy Flag Icon \\tSaint Barthélemy \\tGustavia \\t17,90 \\t-62,85\\t', 'Saint Helena Flag Icon \\tSaint Helena \\tJamestown \\t-15,94 \\t-5,72\\t', 'Saint Kitts and Nevis Flag Icon \\tSaint Kitts and Nevis \\tBasseterre \\t17,29 \\t-62,73\\t', 'Saint Lucia Flag Icon \\tSaint Lucia \\tCastries \\t14,00 \\t-61,01\\t', 'Saint Martin Flag Icon \\tSaint Martin \\tMarigot \\t18,07 \\t-63,08\\t', 'Saint Pierre and Miquelon Flag Icon \\tSaint Pierre and Miquelon \\tSaint-Pierre \\t46,78 \\t-56,17\\t', 'Saint Vincent and the Grenadines Flag Icon \\tSaint Vincent and the Grenadines \\tKingstown \\t13,16 \\t-61,22\\t', 'Samoa Flag Icon \\tSamoa \\tApia \\t-13,83 \\t-171,77\\t', 'San Marino Flag Icon \\tSan Marino \\tSan Marino \\t43,94 \\t12,45\\t', 'Sao Tome and Principe Flag Icon \\tSao Tome and Principe \\tSão Tomé \\t0,34 \\t6,73\\t', 'Saudi Arabia Flag Icon \\tSaudi Arabia \\tRiyadh \\t24,69 \\t46,72\\t', 'Senegal Flag Icon \\tSenegal \\tDakar \\t14,69 \\t-17,44\\t', 'Serbia Flag Icon \\tSerbia \\tBelgrade \\t44,80 \\t20,47\\t', 'Seychelles Flag Icon \\tSeychelles \\tVictoria \\t-4,62 \\t55,45\\t', 'Sierra Leone Flag Icon \\tSierra Leone \\tFreetown \\t8,48 \\t-13,23\\t', 'Singapore Flag Icon \\tSingapore \\tSingapore \\t1,29 \\t103,85\\t', 'Slovakia Flag Icon \\tSlovakia \\tBratislava \\t48,15 \\t17,11\\t', 'Slovenia Flag Icon \\tSlovenia \\tLjubljana \\t46,05 \\t14,51\\t', 'Solomon Islands Flag Icon \\tSolomon Islands \\tHoniara \\t-9,43 \\t159,95\\t', 'Somalia Flag Icon \\tSomalia \\tMogadishu \\t2,04 \\t45,34\\t', 'South Africa Flag Icon \\tSouth Africa \\tPretoria \\t-25,74 \\t28,19\\t', 'South Georgia and the South Sandwich Islands Flag Icon \\tSouth Georgia and the South Sandwich Islands \\tGrytviken \\t-54,28 \\t-36,51\\t', 'South Korea Flag Icon \\tSouth Korea \\tSeoul \\t37,57 \\t126,98\\t', 'Spain Flag Icon \\tSpain \\tMadrid \\t40,42 \\t-3,70\\t', 'Sri Lanka Flag Icon \\tSri Lanka \\tColombo \\t6,93 \\t79,85\\t', 'Sudan Flag Icon \\tSudan \\tKhartoum \\t15,55 \\t32,53\\t', 'Suriname Flag Icon \\tSuriname \\tParamaribo \\t5,87 \\t-55,17\\t', 'Svalbard and Jan Mayen Flag Icon \\tSvalbard and Jan Mayen \\tLongyearbyen \\t78,22 \\t15,64\\t', 'Swaziland Flag Icon \\tSwaziland \\tMbabane \\t-26,32 \\t31,13\\t', 'Sweden Flag Icon \\tSweden \\tStockholm \\t59,33 \\t18,06\\t', 'Switzerland Flag Icon \\tSwitzerland \\tBerne \\t46,95 \\t7,45\\t', 'Syria Flag Icon \\tSyria \\tDamascus \\t33,51 \\t36,29\\t', 'Taiwan Flag Icon \\tTaiwan \\tTaipei \\t25,05 \\t121,53\\t', 'Tajikistan Flag Icon \\tTajikistan \\tDushanbe \\t38,54 \\t68,78\\t', 'Tanzania Flag Icon \\tTanzania \\tDodoma \\t-6,17 \\t35,74\\t', 'Thailand Flag Icon \\tThailand \\tBangkok \\t13,75 \\t100,50\\t', 'Togo Flag Icon \\tTogo \\tLomé \\t6,14 \\t1,21\\t', 'Tokelau Flag Icon \\tTokelau \\tNukunonu \\t-171,85 \\t-9,20\\t', \"Tonga Flag Icon \\tTonga \\tNuku'alofa \\t-21,13 \\t-175,20\\t\", 'Trinidad and Tobago Flag Icon \\tTrinidad and Tobago \\tPort of Spain \\t10,67 \\t-61,52\\t', 'Tunisia Flag Icon \\tTunisia \\tTunis \\t36,82 \\t10,17\\t', 'Turkey Flag Icon \\tTurkey \\tAnkara \\t39,92 \\t32,85\\t', 'Turkmenistan Flag Icon \\tTurkmenistan \\tAshkhabad \\t37,95 \\t58,38\\t', 'Turks and Caicos Islands Flag Icon \\tTurks and Caicos Islands \\tCockburn Town \\t21,46 \\t-71,14\\t', 'Tuvalu Flag Icon \\tTuvalu \\tFunafuti \\t-8,52 \\t179,19\\t', 'U.S. Virgin Islands Flag Icon \\tU.S. Virgin Islands \\tCharlotte Amalie \\t18,34 \\t-64,93\\t', 'Uganda Flag Icon \\tUganda \\tKampala \\t0,32 \\t32,58\\t', 'Ukraine Flag Icon \\tUkraine \\tKiev \\t50,45 \\t30,52\\t', 'United Arab Emirates Flag Icon \\tUnited Arab Emirates \\tAbu Dhabi \\t24,47 \\t54,37\\t', 'United Kingdom Flag Icon \\tUnited Kingdom \\tLondon \\t51,51 \\t-0,13\\t', 'United States Flag Icon \\tUnited States \\tWashington \\t38,90 \\t-77,04\\t', 'Uruguay Flag Icon \\tUruguay \\tMontevideo \\t-34,83 \\t-56,17\\t', 'Uzbekistan Flag Icon \\tUzbekistan \\tTashkent \\t41,26 \\t69,22\\t', 'Vanuatu Flag Icon \\tVanuatu \\tPort Vila \\t-17,73 \\t168,32\\t', 'Vatican Flag Icon \\tVatican \\tVatican \\t41,90 \\t12,45\\t', 'Venezuela Flag Icon \\tVenezuela \\tCaracas \\t10,49 \\t-66,88\\t', 'Vietnam Flag Icon \\tVietnam \\tHanoi \\t21,02 \\t105,84\\t', 'Wallis and Futuna Flag Icon \\tWallis and Futuna \\tMata-Utu \\t-13,28 \\t-176,17\\t', 'Western Sahara Flag Icon \\tWestern Sahara \\tEl Aaiún \\t27,16 \\t-13,20\\t', 'Yemen Flag Icon \\tYemen \\tSanaa \\t15,35 \\t44,21\\t', 'Zambia Flag Icon \\tZambia \\tLusaka \\t-15,41 \\t28,29\\t', 'Zimbabwe Flag Icon \\tZimbabwe \\tHarare \\t-17,83 \\t31,05']\n",
            "[('Kabul', 34.53, 69.17), ('Tirana', 41.33, 19.82), ('Algiers', 36.75, 3.04), ('Pago Pago', -14.28, -170.7), ('Andorra la Vella', 42.51, 1.52), ('Luanda', -8.84, 13.23), ('The Valley', 18.22, -63.06), (\"St. John's\", 17.12, -61.85), ('Buenos Aires', -34.61, -58.38), ('Yerevan', 40.18, 44.51)]\n"
          ],
          "name": "stdout"
        }
      ]
    },
    {
      "cell_type": "code",
      "metadata": {
        "colab": {
          "base_uri": "https://localhost:8080/"
        },
        "id": "BagLZPwqOEVo",
        "outputId": "ebee28e3-c674-4347-87dd-99d132bfb067"
      },
      "source": [
        "from geopy import distance\n",
        "# Take a cartesian of tuple capital dataset\n",
        "capitalDistRDD = capitalRDD.cartesian(capitalRDD)\n",
        "print(capitalDistRDD.take(10))\n",
        "\n",
        "def calculate_dist(sample):\n",
        "    loc1 = sample[0][1:3]\n",
        "    loc2 = sample[1][1:3]\n",
        "    dist = distance.distance(loc1, loc2).km # in km\n",
        "    dist = round(dist, 2) # round it to 2 decimal points\n",
        "    return (sample[0][0], sample[1][0], dist)\n",
        "\n",
        "capitalDistRDD = capitalDistRDD.filter(lambda x: x[0][0] != x[1][0]) # Filter same capital city pairs\n",
        "capitalDistRDD = capitalDistRDD.map(lambda line: calculate_dist(line))\n",
        "capitalDistRDD = capitalDistRDD.filter(lambda line: int(line[2])>=3) # Filter same capital cities for two different contries\n",
        "# where distance is smaller than 3 km. Ie. eliminate Italy and Israil cases\n",
        "print(capitalDistRDD.take(10))"
      ],
      "execution_count": 13,
      "outputs": [
        {
          "output_type": "stream",
          "text": [
            "[(('Kabul', 34.53, 69.17), ('Kabul', 34.53, 69.17)), (('Kabul', 34.53, 69.17), ('Tirana', 41.33, 19.82)), (('Kabul', 34.53, 69.17), ('Algiers', 36.75, 3.04)), (('Kabul', 34.53, 69.17), ('Pago Pago', -14.28, -170.7)), (('Kabul', 34.53, 69.17), ('Andorra la Vella', 42.51, 1.52)), (('Kabul', 34.53, 69.17), ('Luanda', -8.84, 13.23)), (('Kabul', 34.53, 69.17), ('The Valley', 18.22, -63.06)), (('Kabul', 34.53, 69.17), (\"St. John's\", 17.12, -61.85)), (('Kabul', 34.53, 69.17), ('Buenos Aires', -34.61, -58.38)), (('Kabul', 34.53, 69.17), ('Yerevan', 40.18, 44.51))]\n",
            "[('Kabul', 'Tirana', 4344.48), ('Kabul', 'Algiers', 5870.86), ('Kabul', 'Pago Pago', 13651.19), ('Kabul', 'Andorra la Vella', 5809.34), ('Kabul', 'Luanda', 7593.19), ('Kabul', 'The Valley', 12295.01), ('Kabul', \"St. John's\", 12302.53), ('Kabul', 'Buenos Aires', 15269.26), ('Kabul', 'Yerevan', 2264.6), ('Kabul', 'Oranjestad', 13256.55)]\n"
          ],
          "name": "stdout"
        }
      ]
    },
    {
      "cell_type": "code",
      "metadata": {
        "colab": {
          "base_uri": "https://localhost:8080/"
        },
        "id": "nbIeKiSyEGhC",
        "outputId": "887c26ff-de5b-484f-9231-c130f45b96b8"
      },
      "source": [
        "# Hocam, since you sad that it is not important to have duplicates in the lecture, I keep (A, B) and (B, A) pairs\n",
        "# Since you requested different notebook for each question, I put furthest capital city in different notebook by keeping everything same\n",
        "capitalDistRDD = capitalDistRDD.sortBy(lambda x: x[2], ascending=True)\n",
        "print(\"Two closest capital cities (distance is in km) in the dataset:\")\n",
        "print(capitalDistRDD.take(1))\n",
        "capitalDistRDD = capitalDistRDD.sortBy(lambda x: x[2], ascending=False)\n",
        "print(\"Two furthest capital cities (distance is in km) in the dataset:\")\n",
        "print(capitalDistRDD.take(1))"
      ],
      "execution_count": 14,
      "outputs": [
        {
          "output_type": "stream",
          "text": [
            "Two closest capital cities (distance is in km) in the dataset:\n",
            "[('Kinshasa', 'Brazzaville', 6.45)]\n",
            "Two furthest capital cities (distance is in km) in the dataset:\n",
            "[('Asunción', 'Taipei', 19937.98)]\n"
          ],
          "name": "stdout"
        }
      ]
    },
    {
      "cell_type": "code",
      "metadata": {
        "id": "BGSQ78cl_tWF"
      },
      "source": [
        ""
      ],
      "execution_count": null,
      "outputs": []
    }
  ]
}